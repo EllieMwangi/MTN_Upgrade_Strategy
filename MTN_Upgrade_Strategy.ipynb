{
  "nbformat": 4,
  "nbformat_minor": 0,
  "metadata": {
    "colab": {
      "name": "MTN Upgrade Strategy.ipynb",
      "provenance": [],
      "collapsed_sections": [
        "Y0HEg_llnbvg"
      ],
      "authorship_tag": "ABX9TyP/fZ4Y6liMH/zuSinWYcSC",
      "include_colab_link": true
    },
    "kernelspec": {
      "name": "python3",
      "display_name": "Python 3"
    }
  },
  "cells": [
    {
      "cell_type": "markdown",
      "metadata": {
        "id": "view-in-github",
        "colab_type": "text"
      },
      "source": [
        "<a href=\"https://colab.research.google.com/github/EllieMwangi/MTN_Upgrade_Strategy/blob/master/MTN_Upgrade_Strategy.ipynb\" target=\"_parent\"><img src=\"https://colab.research.google.com/assets/colab-badge.svg\" alt=\"Open In Colab\"/></a>"
      ]
    },
    {
      "cell_type": "markdown",
      "metadata": {
        "id": "1cPMogOenQzd",
        "colab_type": "text"
      },
      "source": [
        "## Defining the Question"
      ]
    },
    {
      "cell_type": "markdown",
      "metadata": {
        "id": "Y0HEg_llnbvg",
        "colab_type": "text"
      },
      "source": [
        "### 1. Specifying the data analysis question"
      ]
    },
    {
      "cell_type": "markdown",
      "metadata": {
        "id": "6EUCuzYvnpz5",
        "colab_type": "text"
      },
      "source": [
        "Understand mobile usage in select cities in the Ivory Coast to inform strategy to be used by MTN Cote d'Ivoire in upgrading its technology infastructure."
      ]
    },
    {
      "cell_type": "markdown",
      "metadata": {
        "id": "1Lr-Cv1Mo2Ii",
        "colab_type": "text"
      },
      "source": [
        "### 2. Defining Metric for Success"
      ]
    },
    {
      "cell_type": "markdown",
      "metadata": {
        "id": "xG8nDf20pFHX",
        "colab_type": "text"
      },
      "source": [
        "The objective will have been met we have identified the following:\n",
        "- Which city has the highest user traffic based on provided data\n",
        "- Which MTN product is the most frequently used per city and overall\n",
        "- What are the busiest times of the day in terms of user traffic [This should be key in identifying the most suitable times for upgrades]"
      ]
    },
    {
      "cell_type": "markdown",
      "metadata": {
        "id": "gLFXee8irQLp",
        "colab_type": "text"
      },
      "source": [
        "### 3. Understanding the context"
      ]
    },
    {
      "cell_type": "markdown",
      "metadata": {
        "id": "k9wUf1v8rZk1",
        "colab_type": "text"
      },
      "source": [
        "MTN Cote d'Ivoire, a leading telecom company is looking to upgrade its technology infastructure for its mobile users in Ivory Coast. As a data scientist, I am tasked with helping MTN implement a suitable upgrading strategy within given cities by understanding mobile usage in them."
      ]
    },
    {
      "cell_type": "markdown",
      "metadata": {
        "id": "JgUZZvOcsuj3",
        "colab_type": "text"
      },
      "source": [
        "### 4. Recording the experimental design"
      ]
    },
    {
      "cell_type": "markdown",
      "metadata": {
        "id": "XC3cELRfgJFa",
        "colab_type": "text"
      },
      "source": [
        "1. Load datasets\n",
        "2. Check for missing data\n",
        "3. Check for duplicates \n",
        "4. Drop duplicates if present\n",
        "5. Combine telcom datasets\n",
        "6. Merge telcom dataset with geo data on site code attribute\n",
        "7. Explore cities with highest traffic per region and per zone\n",
        "8. Upon identifying high traffic cities, explore which product usage per city\n",
        "9. Explore peak hours per day in high traffic cities\n"
      ]
    },
    {
      "cell_type": "markdown",
      "metadata": {
        "id": "zRl6j_HageEK",
        "colab_type": "text"
      },
      "source": [
        "## Data Analysis"
      ]
    },
    {
      "cell_type": "code",
      "metadata": {
        "id": "aeqWBxY8grrl",
        "colab_type": "code",
        "colab": {}
      },
      "source": [
        "# Import libraries\n",
        "import pandas as pd\n",
        "import numpy as np\n",
        "\n",
        "import matplotlib.pyplot as plt\n",
        "import seaborn as sns\n",
        "from google.colab import files\n",
        "%matplotlib inline"
      ],
      "execution_count": 85,
      "outputs": []
    },
    {
      "cell_type": "code",
      "metadata": {
        "id": "-zMXIKCvskm7",
        "colab_type": "code",
        "colab": {}
      },
      "source": [
        "#Load datasets\n",
        "geo_df = pd.read_csv('cells_geo.csv', sep=\";\", encoding='utf-8')\n",
        "\n",
        "column_names = ['product', 'bill',\t'datetime','cell_on_site','caller_anonymized', 'recipient_anonymized', 'country_a','country_b','cell_id', 'site_id']\n",
        "\n",
        "cdr_07 = pd.read_csv('Telcom_dataset.csv', encoding='utf-8', names=column_names, header=0)\n",
        "cdr_08 = pd.read_csv('Telcom_dataset2.csv', encoding='utf-8',names = column_names, header=0)\n",
        "cdr_09 = pd.read_csv('Telcom_dataset3.csv', encoding='utf-8', names = column_names, header=0)"
      ],
      "execution_count": 2,
      "outputs": []
    },
    {
      "cell_type": "code",
      "metadata": {
        "id": "Ok6FesQFh7CU",
        "colab_type": "code",
        "colab": {
          "base_uri": "https://localhost:8080/",
          "height": 191
        },
        "outputId": "409c84f3-8cbe-477b-a60e-93d1aeb7f72a"
      },
      "source": [
        "#Preview datasets\n",
        "geo_df.head()"
      ],
      "execution_count": 3,
      "outputs": [
        {
          "output_type": "execute_result",
          "data": {
            "text/html": [
              "<div>\n",
              "<style scoped>\n",
              "    .dataframe tbody tr th:only-of-type {\n",
              "        vertical-align: middle;\n",
              "    }\n",
              "\n",
              "    .dataframe tbody tr th {\n",
              "        vertical-align: top;\n",
              "    }\n",
              "\n",
              "    .dataframe thead th {\n",
              "        text-align: right;\n",
              "    }\n",
              "</style>\n",
              "<table border=\"1\" class=\"dataframe\">\n",
              "  <thead>\n",
              "    <tr style=\"text-align: right;\">\n",
              "      <th></th>\n",
              "      <th>Unnamed: 0</th>\n",
              "      <th>VILLES</th>\n",
              "      <th>STATUS</th>\n",
              "      <th>LOCALISATION</th>\n",
              "      <th>DECOUPZONE</th>\n",
              "      <th>ZONENAME</th>\n",
              "      <th>LONGITUDE</th>\n",
              "      <th>LATITUDE</th>\n",
              "      <th>REGION</th>\n",
              "      <th>AREA</th>\n",
              "      <th>CELL_ID</th>\n",
              "      <th>SITE_CODE</th>\n",
              "    </tr>\n",
              "  </thead>\n",
              "  <tbody>\n",
              "    <tr>\n",
              "      <th>0</th>\n",
              "      <td>0</td>\n",
              "      <td>ADJAME</td>\n",
              "      <td>In Service</td>\n",
              "      <td>ABIDJAN</td>\n",
              "      <td>\"Abidjan_EST</td>\n",
              "      <td>AGBANNEW</td>\n",
              "      <td>-4.000667</td>\n",
              "      <td>5.368194</td>\n",
              "      <td>LAGUNE</td>\n",
              "      <td>NaN</td>\n",
              "      <td>fbb2e75af3</td>\n",
              "      <td>0bb492ef17</td>\n",
              "    </tr>\n",
              "    <tr>\n",
              "      <th>1</th>\n",
              "      <td>1</td>\n",
              "      <td>ADJAME</td>\n",
              "      <td>In Service</td>\n",
              "      <td>ABIDJAN</td>\n",
              "      <td>\"Abidjan_EST</td>\n",
              "      <td>AGBANNEW</td>\n",
              "      <td>-4.000667</td>\n",
              "      <td>5.368194</td>\n",
              "      <td>LAGUNE</td>\n",
              "      <td>NaN</td>\n",
              "      <td>1502501d78</td>\n",
              "      <td>0bb492ef17</td>\n",
              "    </tr>\n",
              "    <tr>\n",
              "      <th>2</th>\n",
              "      <td>2</td>\n",
              "      <td>ADJAME</td>\n",
              "      <td>In Service</td>\n",
              "      <td>ABIDJAN</td>\n",
              "      <td>\"Abidjan_EST</td>\n",
              "      <td>AGBANNEW</td>\n",
              "      <td>-4.000667</td>\n",
              "      <td>5.368194</td>\n",
              "      <td>LAGUNE</td>\n",
              "      <td>NaN</td>\n",
              "      <td>0c2e182a0c</td>\n",
              "      <td>0bb492ef17</td>\n",
              "    </tr>\n",
              "    <tr>\n",
              "      <th>3</th>\n",
              "      <td>3</td>\n",
              "      <td>ASSINIE</td>\n",
              "      <td>In Service</td>\n",
              "      <td>INTERIEUR</td>\n",
              "      <td>Grand-EST</td>\n",
              "      <td>ASSINIE\"</td>\n",
              "      <td>-3.488467</td>\n",
              "      <td>5.158761</td>\n",
              "      <td>SUD COMOE</td>\n",
              "      <td>NaN</td>\n",
              "      <td>69bdfc69fd</td>\n",
              "      <td>8a1e6ce31f</td>\n",
              "    </tr>\n",
              "    <tr>\n",
              "      <th>4</th>\n",
              "      <td>4</td>\n",
              "      <td>ASSINIE</td>\n",
              "      <td>In Service</td>\n",
              "      <td>INTERIEUR</td>\n",
              "      <td>Grand-EST</td>\n",
              "      <td>ASSINIE\"</td>\n",
              "      <td>-3.488467</td>\n",
              "      <td>5.158761</td>\n",
              "      <td>SUD COMOE</td>\n",
              "      <td>NaN</td>\n",
              "      <td>7a1029d2ab</td>\n",
              "      <td>8a1e6ce31f</td>\n",
              "    </tr>\n",
              "  </tbody>\n",
              "</table>\n",
              "</div>"
            ],
            "text/plain": [
              "   Unnamed: 0   VILLES      STATUS  ... AREA     CELL_ID   SITE_CODE\n",
              "0           0   ADJAME  In Service  ...  NaN  fbb2e75af3  0bb492ef17\n",
              "1           1   ADJAME  In Service  ...  NaN  1502501d78  0bb492ef17\n",
              "2           2   ADJAME  In Service  ...  NaN  0c2e182a0c  0bb492ef17\n",
              "3           3  ASSINIE  In Service  ...  NaN  69bdfc69fd  8a1e6ce31f\n",
              "4           4  ASSINIE  In Service  ...  NaN  7a1029d2ab  8a1e6ce31f\n",
              "\n",
              "[5 rows x 12 columns]"
            ]
          },
          "metadata": {
            "tags": []
          },
          "execution_count": 3
        }
      ]
    },
    {
      "cell_type": "code",
      "metadata": {
        "id": "2AfgWXU3j2Nj",
        "colab_type": "code",
        "colab": {
          "base_uri": "https://localhost:8080/",
          "height": 191
        },
        "outputId": "46461cb3-c582-4644-9aab-3a0d3c592714"
      },
      "source": [
        "geo_df.tail()"
      ],
      "execution_count": 4,
      "outputs": [
        {
          "output_type": "execute_result",
          "data": {
            "text/html": [
              "<div>\n",
              "<style scoped>\n",
              "    .dataframe tbody tr th:only-of-type {\n",
              "        vertical-align: middle;\n",
              "    }\n",
              "\n",
              "    .dataframe tbody tr th {\n",
              "        vertical-align: top;\n",
              "    }\n",
              "\n",
              "    .dataframe thead th {\n",
              "        text-align: right;\n",
              "    }\n",
              "</style>\n",
              "<table border=\"1\" class=\"dataframe\">\n",
              "  <thead>\n",
              "    <tr style=\"text-align: right;\">\n",
              "      <th></th>\n",
              "      <th>Unnamed: 0</th>\n",
              "      <th>VILLES</th>\n",
              "      <th>STATUS</th>\n",
              "      <th>LOCALISATION</th>\n",
              "      <th>DECOUPZONE</th>\n",
              "      <th>ZONENAME</th>\n",
              "      <th>LONGITUDE</th>\n",
              "      <th>LATITUDE</th>\n",
              "      <th>REGION</th>\n",
              "      <th>AREA</th>\n",
              "      <th>CELL_ID</th>\n",
              "      <th>SITE_CODE</th>\n",
              "    </tr>\n",
              "  </thead>\n",
              "  <tbody>\n",
              "    <tr>\n",
              "      <th>3969</th>\n",
              "      <td>3969</td>\n",
              "      <td>ZUENOULA</td>\n",
              "      <td>In Service</td>\n",
              "      <td>INTERIEUR</td>\n",
              "      <td>Grand-NORD</td>\n",
              "      <td>ZONE A - Grand-NORD</td>\n",
              "      <td>-6.039694</td>\n",
              "      <td>7.428611</td>\n",
              "      <td>MARAHOUE</td>\n",
              "      <td>CENTRE NORTH</td>\n",
              "      <td>1cfc2d7ab1</td>\n",
              "      <td>f91ed8d2e9</td>\n",
              "    </tr>\n",
              "    <tr>\n",
              "      <th>3970</th>\n",
              "      <td>3970</td>\n",
              "      <td>ZUENOULA</td>\n",
              "      <td>In Service</td>\n",
              "      <td>INTERIEUR</td>\n",
              "      <td>Grand-NORD</td>\n",
              "      <td>ZONE A - Grand-NORD</td>\n",
              "      <td>-6.039694</td>\n",
              "      <td>7.428611</td>\n",
              "      <td>MARAHOUE</td>\n",
              "      <td>CENTRE NORTH</td>\n",
              "      <td>3ae1708153</td>\n",
              "      <td>f91ed8d2e9</td>\n",
              "    </tr>\n",
              "    <tr>\n",
              "      <th>3971</th>\n",
              "      <td>3971</td>\n",
              "      <td>ZUENOULA</td>\n",
              "      <td>In Service</td>\n",
              "      <td>INTERIEUR</td>\n",
              "      <td>Grand-NORD</td>\n",
              "      <td>ZONE A - Grand-NORD</td>\n",
              "      <td>-6.065450</td>\n",
              "      <td>7.444592</td>\n",
              "      <td>MARAHOUE</td>\n",
              "      <td>CENTRE NORTH</td>\n",
              "      <td>cb71f8a29c</td>\n",
              "      <td>61bee9c70c</td>\n",
              "    </tr>\n",
              "    <tr>\n",
              "      <th>3972</th>\n",
              "      <td>3972</td>\n",
              "      <td>ZUENOULA</td>\n",
              "      <td>In Service</td>\n",
              "      <td>INTERIEUR</td>\n",
              "      <td>Grand-NORD</td>\n",
              "      <td>ZONE A - Grand-NORD</td>\n",
              "      <td>-6.065450</td>\n",
              "      <td>7.444592</td>\n",
              "      <td>MARAHOUE</td>\n",
              "      <td>CENTRE NORTH</td>\n",
              "      <td>d4a6a0b645</td>\n",
              "      <td>61bee9c70c</td>\n",
              "    </tr>\n",
              "    <tr>\n",
              "      <th>3973</th>\n",
              "      <td>3973</td>\n",
              "      <td>ZUENOULA</td>\n",
              "      <td>In Service</td>\n",
              "      <td>INTERIEUR</td>\n",
              "      <td>Grand-NORD</td>\n",
              "      <td>ZONE A - Grand-NORD</td>\n",
              "      <td>-6.065450</td>\n",
              "      <td>7.444592</td>\n",
              "      <td>MARAHOUE</td>\n",
              "      <td>CENTRE NORTH</td>\n",
              "      <td>f9f3e42589</td>\n",
              "      <td>61bee9c70c</td>\n",
              "    </tr>\n",
              "  </tbody>\n",
              "</table>\n",
              "</div>"
            ],
            "text/plain": [
              "      Unnamed: 0    VILLES      STATUS  ...          AREA     CELL_ID   SITE_CODE\n",
              "3969        3969  ZUENOULA  In Service  ...  CENTRE NORTH  1cfc2d7ab1  f91ed8d2e9\n",
              "3970        3970  ZUENOULA  In Service  ...  CENTRE NORTH  3ae1708153  f91ed8d2e9\n",
              "3971        3971  ZUENOULA  In Service  ...  CENTRE NORTH  cb71f8a29c  61bee9c70c\n",
              "3972        3972  ZUENOULA  In Service  ...  CENTRE NORTH  d4a6a0b645  61bee9c70c\n",
              "3973        3973  ZUENOULA  In Service  ...  CENTRE NORTH  f9f3e42589  61bee9c70c\n",
              "\n",
              "[5 rows x 12 columns]"
            ]
          },
          "metadata": {
            "tags": []
          },
          "execution_count": 4
        }
      ]
    },
    {
      "cell_type": "code",
      "metadata": {
        "id": "Th4I9PRfj8oK",
        "colab_type": "code",
        "colab": {
          "base_uri": "https://localhost:8080/",
          "height": 191
        },
        "outputId": "6202b1bd-f84d-4c98-9fda-862dbb7bcec8"
      },
      "source": [
        "geo_df.sample(5)"
      ],
      "execution_count": 5,
      "outputs": [
        {
          "output_type": "execute_result",
          "data": {
            "text/html": [
              "<div>\n",
              "<style scoped>\n",
              "    .dataframe tbody tr th:only-of-type {\n",
              "        vertical-align: middle;\n",
              "    }\n",
              "\n",
              "    .dataframe tbody tr th {\n",
              "        vertical-align: top;\n",
              "    }\n",
              "\n",
              "    .dataframe thead th {\n",
              "        text-align: right;\n",
              "    }\n",
              "</style>\n",
              "<table border=\"1\" class=\"dataframe\">\n",
              "  <thead>\n",
              "    <tr style=\"text-align: right;\">\n",
              "      <th></th>\n",
              "      <th>Unnamed: 0</th>\n",
              "      <th>VILLES</th>\n",
              "      <th>STATUS</th>\n",
              "      <th>LOCALISATION</th>\n",
              "      <th>DECOUPZONE</th>\n",
              "      <th>ZONENAME</th>\n",
              "      <th>LONGITUDE</th>\n",
              "      <th>LATITUDE</th>\n",
              "      <th>REGION</th>\n",
              "      <th>AREA</th>\n",
              "      <th>CELL_ID</th>\n",
              "      <th>SITE_CODE</th>\n",
              "    </tr>\n",
              "  </thead>\n",
              "  <tbody>\n",
              "    <tr>\n",
              "      <th>934</th>\n",
              "      <td>934</td>\n",
              "      <td>COCODY</td>\n",
              "      <td>In Service</td>\n",
              "      <td>ABIDJAN</td>\n",
              "      <td>Abidjan_EST</td>\n",
              "      <td>ZONE B - Abidjan_EST</td>\n",
              "      <td>-3.981028</td>\n",
              "      <td>5.356778</td>\n",
              "      <td>LAGUNE</td>\n",
              "      <td>ABIDJAN NORTH</td>\n",
              "      <td>21de9f8833</td>\n",
              "      <td>a64fc672f1</td>\n",
              "    </tr>\n",
              "    <tr>\n",
              "      <th>2605</th>\n",
              "      <td>2605</td>\n",
              "      <td>NIAMANA</td>\n",
              "      <td>In Service</td>\n",
              "      <td>INTERIEUR</td>\n",
              "      <td>Grand-NORD</td>\n",
              "      <td>ZONE A - Grand-NORD</td>\n",
              "      <td>-7.887611</td>\n",
              "      <td>9.584861</td>\n",
              "      <td>DENGUELE</td>\n",
              "      <td>NORTH WEST</td>\n",
              "      <td>d0692f1086</td>\n",
              "      <td>7d41b1e068</td>\n",
              "    </tr>\n",
              "    <tr>\n",
              "      <th>1829</th>\n",
              "      <td>1829</td>\n",
              "      <td>HERMANKONONO/DIES</td>\n",
              "      <td>In Service</td>\n",
              "      <td>INTERIEUR</td>\n",
              "      <td>Grand-SUD</td>\n",
              "      <td>ZONE B - Grand-SUD</td>\n",
              "      <td>-5.363306</td>\n",
              "      <td>5.580444</td>\n",
              "      <td>SUD BANDAMA</td>\n",
              "      <td>SOUTH WEST</td>\n",
              "      <td>946fd5faac</td>\n",
              "      <td>cef3f76edc</td>\n",
              "    </tr>\n",
              "    <tr>\n",
              "      <th>1283</th>\n",
              "      <td>1283</td>\n",
              "      <td>DAOUKRO</td>\n",
              "      <td>In Service</td>\n",
              "      <td>INTERIEUR</td>\n",
              "      <td>Grand-EST</td>\n",
              "      <td>ZONE C - Grand-EST</td>\n",
              "      <td>-3.973611</td>\n",
              "      <td>7.068056</td>\n",
              "      <td>NZI COMOE</td>\n",
              "      <td>EAST</td>\n",
              "      <td>65af36164a</td>\n",
              "      <td>02f6336d54</td>\n",
              "    </tr>\n",
              "    <tr>\n",
              "      <th>3759</th>\n",
              "      <td>3759</td>\n",
              "      <td>YAOKRO</td>\n",
              "      <td>In Service</td>\n",
              "      <td>INTERIEUR</td>\n",
              "      <td>Grand-SUD</td>\n",
              "      <td>ZONE B - Grand-SUD</td>\n",
              "      <td>-5.846139</td>\n",
              "      <td>6.727306</td>\n",
              "      <td>MARAHOUE</td>\n",
              "      <td>SOUTH WEST</td>\n",
              "      <td>a1b41e7b3c</td>\n",
              "      <td>a5c72e2787</td>\n",
              "    </tr>\n",
              "  </tbody>\n",
              "</table>\n",
              "</div>"
            ],
            "text/plain": [
              "      Unnamed: 0             VILLES  ...     CELL_ID   SITE_CODE\n",
              "934          934             COCODY  ...  21de9f8833  a64fc672f1\n",
              "2605        2605            NIAMANA  ...  d0692f1086  7d41b1e068\n",
              "1829        1829  HERMANKONONO/DIES  ...  946fd5faac  cef3f76edc\n",
              "1283        1283            DAOUKRO  ...  65af36164a  02f6336d54\n",
              "3759        3759             YAOKRO  ...  a1b41e7b3c  a5c72e2787\n",
              "\n",
              "[5 rows x 12 columns]"
            ]
          },
          "metadata": {
            "tags": []
          },
          "execution_count": 5
        }
      ]
    },
    {
      "cell_type": "code",
      "metadata": {
        "id": "tXgKOqU1kRmX",
        "colab_type": "code",
        "colab": {}
      },
      "source": [
        "# Drop unnamed column\n",
        "geo_df.drop('Unnamed: 0', axis=1, inplace=True)"
      ],
      "execution_count": 6,
      "outputs": []
    },
    {
      "cell_type": "code",
      "metadata": {
        "id": "LoV0hPZCkoo5",
        "colab_type": "code",
        "colab": {
          "base_uri": "https://localhost:8080/",
          "height": 335
        },
        "outputId": "00bb8235-13bb-4d47-ca01-a21eb6a38a29"
      },
      "source": [
        "#Preview cdr datasets\n",
        "cdr_07.head(10)"
      ],
      "execution_count": 7,
      "outputs": [
        {
          "output_type": "execute_result",
          "data": {
            "text/html": [
              "<div>\n",
              "<style scoped>\n",
              "    .dataframe tbody tr th:only-of-type {\n",
              "        vertical-align: middle;\n",
              "    }\n",
              "\n",
              "    .dataframe tbody tr th {\n",
              "        vertical-align: top;\n",
              "    }\n",
              "\n",
              "    .dataframe thead th {\n",
              "        text-align: right;\n",
              "    }\n",
              "</style>\n",
              "<table border=\"1\" class=\"dataframe\">\n",
              "  <thead>\n",
              "    <tr style=\"text-align: right;\">\n",
              "      <th></th>\n",
              "      <th>product</th>\n",
              "      <th>bill</th>\n",
              "      <th>datetime</th>\n",
              "      <th>cell_on_site</th>\n",
              "      <th>caller_anonymized</th>\n",
              "      <th>recipient_anonymized</th>\n",
              "      <th>country_a</th>\n",
              "      <th>country_b</th>\n",
              "      <th>cell_id</th>\n",
              "      <th>site_id</th>\n",
              "    </tr>\n",
              "  </thead>\n",
              "  <tbody>\n",
              "    <tr>\n",
              "      <th>0</th>\n",
              "      <td>Voice</td>\n",
              "      <td>0</td>\n",
              "      <td>2012-05-06 23:04:37.0</td>\n",
              "      <td>1</td>\n",
              "      <td>49fae048b547780</td>\n",
              "      <td>1a49f8b0ded9de6</td>\n",
              "      <td>19e2e</td>\n",
              "      <td>19e2e</td>\n",
              "      <td>/TJNe+Mmtu</td>\n",
              "      <td>/TJNe+Mmtu</td>\n",
              "    </tr>\n",
              "    <tr>\n",
              "      <th>1</th>\n",
              "      <td>sms</td>\n",
              "      <td>0</td>\n",
              "      <td>2012-05-06 23:05:25.0</td>\n",
              "      <td>0</td>\n",
              "      <td>7a54a6eaee19e65</td>\n",
              "      <td>93343ba6e41af95</td>\n",
              "      <td>19e2e</td>\n",
              "      <td>19e2e</td>\n",
              "      <td>/+cKZKIp41</td>\n",
              "      <td>/+cKZKIp41</td>\n",
              "    </tr>\n",
              "    <tr>\n",
              "      <th>2</th>\n",
              "      <td>sms</td>\n",
              "      <td>25</td>\n",
              "      <td>2012-05-06 23:05:41.0</td>\n",
              "      <td>0</td>\n",
              "      <td>6008887b0207d82</td>\n",
              "      <td>7aacc9709ce0a20</td>\n",
              "      <td>19e2e</td>\n",
              "      <td>19e2e</td>\n",
              "      <td>/u0FSD+ahi</td>\n",
              "      <td>/u0FSD+ahi</td>\n",
              "    </tr>\n",
              "    <tr>\n",
              "      <th>3</th>\n",
              "      <td>Voice</td>\n",
              "      <td>56</td>\n",
              "      <td>2012-05-06 23:05:42.0</td>\n",
              "      <td>1</td>\n",
              "      <td>7370032e20f4e96</td>\n",
              "      <td>6af4a60e74c91d3</td>\n",
              "      <td>19e2e</td>\n",
              "      <td>19e2e</td>\n",
              "      <td>+cNeJzsTp3</td>\n",
              "      <td>+cNeJzsTp3</td>\n",
              "    </tr>\n",
              "    <tr>\n",
              "      <th>4</th>\n",
              "      <td>Voice</td>\n",
              "      <td>14</td>\n",
              "      <td>2012-05-06 23:06:29.0</td>\n",
              "      <td>1</td>\n",
              "      <td>966ba4656e38e62</td>\n",
              "      <td>02aa736ee555d5c</td>\n",
              "      <td>19e2e</td>\n",
              "      <td>19e2e</td>\n",
              "      <td>051KhYDCpv</td>\n",
              "      <td>051KhYDCpv</td>\n",
              "    </tr>\n",
              "    <tr>\n",
              "      <th>5</th>\n",
              "      <td>data</td>\n",
              "      <td>0</td>\n",
              "      <td>2012-05-06 23:07:26.0</td>\n",
              "      <td>_</td>\n",
              "      <td>f71825ca6e623f9</td>\n",
              "      <td>5a4dc9e82deb309</td>\n",
              "      <td>19e2e</td>\n",
              "      <td>OTHER</td>\n",
              "      <td>/lrUXVGVcN</td>\n",
              "      <td>/lrUXVGVcN</td>\n",
              "    </tr>\n",
              "    <tr>\n",
              "      <th>6</th>\n",
              "      <td>Voice</td>\n",
              "      <td>0</td>\n",
              "      <td>2012-05-06 23:08:02.0</td>\n",
              "      <td>1</td>\n",
              "      <td>4afd7d5af21b1ce</td>\n",
              "      <td>67bf1ac30e58e2f</td>\n",
              "      <td>19e2e</td>\n",
              "      <td>19e2e</td>\n",
              "      <td>+38u2u/rfx</td>\n",
              "      <td>+38u2u/rfx</td>\n",
              "    </tr>\n",
              "    <tr>\n",
              "      <th>7</th>\n",
              "      <td>Voice</td>\n",
              "      <td>0</td>\n",
              "      <td>2012-05-06 23:08:03.0</td>\n",
              "      <td>5</td>\n",
              "      <td>d717dee81c51389</td>\n",
              "      <td>adde5afd9a67b10</td>\n",
              "      <td>19e2e</td>\n",
              "      <td>19e2e</td>\n",
              "      <td>09UjmmY1Ds</td>\n",
              "      <td>09UjmmY1Ds</td>\n",
              "    </tr>\n",
              "    <tr>\n",
              "      <th>8</th>\n",
              "      <td>Voice</td>\n",
              "      <td>0</td>\n",
              "      <td>2012-05-06 23:08:05.0</td>\n",
              "      <td>1</td>\n",
              "      <td>44522aefdc918a6</td>\n",
              "      <td>19e68e80103885e</td>\n",
              "      <td>19e2e</td>\n",
              "      <td>19e2e</td>\n",
              "      <td>0DeimCpZOc</td>\n",
              "      <td>0DeimCpZOc</td>\n",
              "    </tr>\n",
              "    <tr>\n",
              "      <th>9</th>\n",
              "      <td>sms</td>\n",
              "      <td>0</td>\n",
              "      <td>2012-05-06 23:08:43.0</td>\n",
              "      <td>0</td>\n",
              "      <td>0763a571d24db64</td>\n",
              "      <td>f773694c00c74d2</td>\n",
              "      <td>19e2e</td>\n",
              "      <td>19e2e</td>\n",
              "      <td>01MDiY5F89</td>\n",
              "      <td>01MDiY5F89</td>\n",
              "    </tr>\n",
              "  </tbody>\n",
              "</table>\n",
              "</div>"
            ],
            "text/plain": [
              "  product  bill               datetime  ... country_b     cell_id     site_id\n",
              "0   Voice     0  2012-05-06 23:04:37.0  ...     19e2e  /TJNe+Mmtu  /TJNe+Mmtu\n",
              "1     sms     0  2012-05-06 23:05:25.0  ...     19e2e  /+cKZKIp41  /+cKZKIp41\n",
              "2     sms    25  2012-05-06 23:05:41.0  ...     19e2e  /u0FSD+ahi  /u0FSD+ahi\n",
              "3   Voice    56  2012-05-06 23:05:42.0  ...     19e2e  +cNeJzsTp3  +cNeJzsTp3\n",
              "4   Voice    14  2012-05-06 23:06:29.0  ...     19e2e  051KhYDCpv  051KhYDCpv\n",
              "5    data     0  2012-05-06 23:07:26.0  ...     OTHER  /lrUXVGVcN  /lrUXVGVcN\n",
              "6   Voice     0  2012-05-06 23:08:02.0  ...     19e2e  +38u2u/rfx  +38u2u/rfx\n",
              "7   Voice     0  2012-05-06 23:08:03.0  ...     19e2e  09UjmmY1Ds  09UjmmY1Ds\n",
              "8   Voice     0  2012-05-06 23:08:05.0  ...     19e2e  0DeimCpZOc  0DeimCpZOc\n",
              "9     sms     0  2012-05-06 23:08:43.0  ...     19e2e  01MDiY5F89  01MDiY5F89\n",
              "\n",
              "[10 rows x 10 columns]"
            ]
          },
          "metadata": {
            "tags": []
          },
          "execution_count": 7
        }
      ]
    },
    {
      "cell_type": "code",
      "metadata": {
        "id": "GYjGLM2oksu1",
        "colab_type": "code",
        "colab": {
          "base_uri": "https://localhost:8080/",
          "height": 335
        },
        "outputId": "58af388e-1fde-4d36-b35c-510142c6ec91"
      },
      "source": [
        "cdr_07.sample(10)"
      ],
      "execution_count": 8,
      "outputs": [
        {
          "output_type": "execute_result",
          "data": {
            "text/html": [
              "<div>\n",
              "<style scoped>\n",
              "    .dataframe tbody tr th:only-of-type {\n",
              "        vertical-align: middle;\n",
              "    }\n",
              "\n",
              "    .dataframe tbody tr th {\n",
              "        vertical-align: top;\n",
              "    }\n",
              "\n",
              "    .dataframe thead th {\n",
              "        text-align: right;\n",
              "    }\n",
              "</style>\n",
              "<table border=\"1\" class=\"dataframe\">\n",
              "  <thead>\n",
              "    <tr style=\"text-align: right;\">\n",
              "      <th></th>\n",
              "      <th>product</th>\n",
              "      <th>bill</th>\n",
              "      <th>datetime</th>\n",
              "      <th>cell_on_site</th>\n",
              "      <th>caller_anonymized</th>\n",
              "      <th>recipient_anonymized</th>\n",
              "      <th>country_a</th>\n",
              "      <th>country_b</th>\n",
              "      <th>cell_id</th>\n",
              "      <th>site_id</th>\n",
              "    </tr>\n",
              "  </thead>\n",
              "  <tbody>\n",
              "    <tr>\n",
              "      <th>4220</th>\n",
              "      <td>sms</td>\n",
              "      <td>0</td>\n",
              "      <td>2012-05-07 00:01:33.0</td>\n",
              "      <td>0</td>\n",
              "      <td>b2935f10f8611d0</td>\n",
              "      <td>e09e736e46c5c3d</td>\n",
              "      <td>19e2e</td>\n",
              "      <td>19e2e</td>\n",
              "      <td>f3ef98c052</td>\n",
              "      <td>204d4d24d1</td>\n",
              "    </tr>\n",
              "    <tr>\n",
              "      <th>4277</th>\n",
              "      <td>Voice</td>\n",
              "      <td>0</td>\n",
              "      <td>2012-05-07 00:01:34.0</td>\n",
              "      <td>1</td>\n",
              "      <td>5b3731e2e20df7e</td>\n",
              "      <td>b884454f1464b7d</td>\n",
              "      <td>19e2e</td>\n",
              "      <td>19e2e</td>\n",
              "      <td>085e63acc5</td>\n",
              "      <td>487765ff90</td>\n",
              "    </tr>\n",
              "    <tr>\n",
              "      <th>1078</th>\n",
              "      <td>Voice</td>\n",
              "      <td>0</td>\n",
              "      <td>2012-05-07 00:00:09.0</td>\n",
              "      <td>0</td>\n",
              "      <td>d09ae90f4fb3a53</td>\n",
              "      <td>f3ed866243ef819</td>\n",
              "      <td>19e2e</td>\n",
              "      <td>19e2e</td>\n",
              "      <td>6d374a471c</td>\n",
              "      <td>95b4afcbc7</td>\n",
              "    </tr>\n",
              "    <tr>\n",
              "      <th>2789</th>\n",
              "      <td>data</td>\n",
              "      <td>0</td>\n",
              "      <td>2012-05-07 00:00:53.0</td>\n",
              "      <td>_</td>\n",
              "      <td>2774224e9d3b454</td>\n",
              "      <td>5a4dc9e82deb309</td>\n",
              "      <td>19e2e</td>\n",
              "      <td>OTHER</td>\n",
              "      <td>ffa6759bb2</td>\n",
              "      <td>NaN</td>\n",
              "    </tr>\n",
              "    <tr>\n",
              "      <th>4049</th>\n",
              "      <td>Voice</td>\n",
              "      <td>20</td>\n",
              "      <td>2012-05-07 00:01:28.0</td>\n",
              "      <td>2</td>\n",
              "      <td>16c3661176a2aa0</td>\n",
              "      <td>e8cf3deec1d01b5</td>\n",
              "      <td>19e2e</td>\n",
              "      <td>19e2e</td>\n",
              "      <td>6d81ab4bd7</td>\n",
              "      <td>bc6c0ddf34</td>\n",
              "    </tr>\n",
              "    <tr>\n",
              "      <th>3901</th>\n",
              "      <td>sms</td>\n",
              "      <td>0</td>\n",
              "      <td>2012-05-07 00:01:25.0</td>\n",
              "      <td>0</td>\n",
              "      <td>f54d3fd5108b8b3</td>\n",
              "      <td>aaaf0e4bdec7311</td>\n",
              "      <td>19e2e</td>\n",
              "      <td>19e2e</td>\n",
              "      <td>5c7e7e1b92</td>\n",
              "      <td>521d2ac7b9</td>\n",
              "    </tr>\n",
              "    <tr>\n",
              "      <th>4513</th>\n",
              "      <td>sms</td>\n",
              "      <td>0</td>\n",
              "      <td>2012-05-07 00:01:41.0</td>\n",
              "      <td>3</td>\n",
              "      <td>ac0b28d4cde611d</td>\n",
              "      <td>cb5bbf0f5e4c582</td>\n",
              "      <td>19e2e</td>\n",
              "      <td>19e2e</td>\n",
              "      <td>93d38fc386</td>\n",
              "      <td>3ae1708153</td>\n",
              "    </tr>\n",
              "    <tr>\n",
              "      <th>3384</th>\n",
              "      <td>Voice</td>\n",
              "      <td>17</td>\n",
              "      <td>2012-05-07 00:01:10.0</td>\n",
              "      <td>1</td>\n",
              "      <td>93663694bfbce26</td>\n",
              "      <td>c8ce3c71241f166</td>\n",
              "      <td>19e2e</td>\n",
              "      <td>19e2e</td>\n",
              "      <td>069b659109</td>\n",
              "      <td>7e46936864</td>\n",
              "    </tr>\n",
              "    <tr>\n",
              "      <th>1824</th>\n",
              "      <td>sms</td>\n",
              "      <td>25</td>\n",
              "      <td>2012-05-07 00:00:28.0</td>\n",
              "      <td>4</td>\n",
              "      <td>5175dcf8e9eac1b</td>\n",
              "      <td>31828c3d775394d</td>\n",
              "      <td>19e2e</td>\n",
              "      <td>19e2e</td>\n",
              "      <td>74ffac08d2</td>\n",
              "      <td>66e2080825</td>\n",
              "    </tr>\n",
              "    <tr>\n",
              "      <th>525</th>\n",
              "      <td>data</td>\n",
              "      <td>0</td>\n",
              "      <td>2012-05-06 23:52:24.0</td>\n",
              "      <td>_</td>\n",
              "      <td>2799385d9c620af</td>\n",
              "      <td>5a4dc9e82deb309</td>\n",
              "      <td>19e2e</td>\n",
              "      <td>OTHER</td>\n",
              "      <td>CUPfBzjJhL</td>\n",
              "      <td>CUPfBzjJhL</td>\n",
              "    </tr>\n",
              "  </tbody>\n",
              "</table>\n",
              "</div>"
            ],
            "text/plain": [
              "     product  bill               datetime  ... country_b     cell_id     site_id\n",
              "4220     sms     0  2012-05-07 00:01:33.0  ...     19e2e  f3ef98c052  204d4d24d1\n",
              "4277   Voice     0  2012-05-07 00:01:34.0  ...     19e2e  085e63acc5  487765ff90\n",
              "1078   Voice     0  2012-05-07 00:00:09.0  ...     19e2e  6d374a471c  95b4afcbc7\n",
              "2789    data     0  2012-05-07 00:00:53.0  ...     OTHER  ffa6759bb2         NaN\n",
              "4049   Voice    20  2012-05-07 00:01:28.0  ...     19e2e  6d81ab4bd7  bc6c0ddf34\n",
              "3901     sms     0  2012-05-07 00:01:25.0  ...     19e2e  5c7e7e1b92  521d2ac7b9\n",
              "4513     sms     0  2012-05-07 00:01:41.0  ...     19e2e  93d38fc386  3ae1708153\n",
              "3384   Voice    17  2012-05-07 00:01:10.0  ...     19e2e  069b659109  7e46936864\n",
              "1824     sms    25  2012-05-07 00:00:28.0  ...     19e2e  74ffac08d2  66e2080825\n",
              "525     data     0  2012-05-06 23:52:24.0  ...     OTHER  CUPfBzjJhL  CUPfBzjJhL\n",
              "\n",
              "[10 rows x 10 columns]"
            ]
          },
          "metadata": {
            "tags": []
          },
          "execution_count": 8
        }
      ]
    },
    {
      "cell_type": "code",
      "metadata": {
        "id": "vnXKxYygluRF",
        "colab_type": "code",
        "colab": {
          "base_uri": "https://localhost:8080/",
          "height": 335
        },
        "outputId": "134d6b2a-9758-4b67-a99c-d449c9c3b940"
      },
      "source": [
        "cdr_08.head(10)"
      ],
      "execution_count": 9,
      "outputs": [
        {
          "output_type": "execute_result",
          "data": {
            "text/html": [
              "<div>\n",
              "<style scoped>\n",
              "    .dataframe tbody tr th:only-of-type {\n",
              "        vertical-align: middle;\n",
              "    }\n",
              "\n",
              "    .dataframe tbody tr th {\n",
              "        vertical-align: top;\n",
              "    }\n",
              "\n",
              "    .dataframe thead th {\n",
              "        text-align: right;\n",
              "    }\n",
              "</style>\n",
              "<table border=\"1\" class=\"dataframe\">\n",
              "  <thead>\n",
              "    <tr style=\"text-align: right;\">\n",
              "      <th></th>\n",
              "      <th>product</th>\n",
              "      <th>bill</th>\n",
              "      <th>datetime</th>\n",
              "      <th>cell_on_site</th>\n",
              "      <th>caller_anonymized</th>\n",
              "      <th>recipient_anonymized</th>\n",
              "      <th>country_a</th>\n",
              "      <th>country_b</th>\n",
              "      <th>cell_id</th>\n",
              "      <th>site_id</th>\n",
              "    </tr>\n",
              "  </thead>\n",
              "  <tbody>\n",
              "    <tr>\n",
              "      <th>0</th>\n",
              "      <td>sms</td>\n",
              "      <td>0</td>\n",
              "      <td>2012-05-07 23:02:06.0</td>\n",
              "      <td>2</td>\n",
              "      <td>32255675c3b6fe3</td>\n",
              "      <td>1aa7ae01386e9fb</td>\n",
              "      <td>19e2e</td>\n",
              "      <td>19e2e</td>\n",
              "      <td>+854AcBQT2</td>\n",
              "      <td>+854AcBQT2</td>\n",
              "    </tr>\n",
              "    <tr>\n",
              "      <th>1</th>\n",
              "      <td>Voice</td>\n",
              "      <td>0</td>\n",
              "      <td>2012-05-07 23:03:44.0</td>\n",
              "      <td>1</td>\n",
              "      <td>ff16d6ac74c1c64</td>\n",
              "      <td>87d87309c15a8c9</td>\n",
              "      <td>19e2e</td>\n",
              "      <td>19e2e</td>\n",
              "      <td>+854AcBQT2</td>\n",
              "      <td>+854AcBQT2</td>\n",
              "    </tr>\n",
              "    <tr>\n",
              "      <th>2</th>\n",
              "      <td>sms</td>\n",
              "      <td>0</td>\n",
              "      <td>2012-05-07 23:04:06.0</td>\n",
              "      <td>0</td>\n",
              "      <td>98d9f2fb5ff624b</td>\n",
              "      <td>93343ba6e41af95</td>\n",
              "      <td>19e2e</td>\n",
              "      <td>19e2e</td>\n",
              "      <td>+laSrk7g6q</td>\n",
              "      <td>+laSrk7g6q</td>\n",
              "    </tr>\n",
              "    <tr>\n",
              "      <th>3</th>\n",
              "      <td>Voice</td>\n",
              "      <td>37</td>\n",
              "      <td>2012-05-07 23:04:48.0</td>\n",
              "      <td>1</td>\n",
              "      <td>3f9c8a33ec7be1f</td>\n",
              "      <td>7d05a38f89c49d8</td>\n",
              "      <td>19e2e</td>\n",
              "      <td>19e2e</td>\n",
              "      <td>/xvRrCVKoQ</td>\n",
              "      <td>/xvRrCVKoQ</td>\n",
              "    </tr>\n",
              "    <tr>\n",
              "      <th>4</th>\n",
              "      <td>sms</td>\n",
              "      <td>25</td>\n",
              "      <td>2012-05-07 23:04:58.0</td>\n",
              "      <td>1</td>\n",
              "      <td>7bcccc03adf3864</td>\n",
              "      <td>56a5d5430d2fa86</td>\n",
              "      <td>19e2e</td>\n",
              "      <td>19e2e</td>\n",
              "      <td>+bO+qkSonO</td>\n",
              "      <td>+bO+qkSonO</td>\n",
              "    </tr>\n",
              "    <tr>\n",
              "      <th>5</th>\n",
              "      <td>sms</td>\n",
              "      <td>0</td>\n",
              "      <td>2012-05-07 23:05:41.0</td>\n",
              "      <td>4</td>\n",
              "      <td>d73f11fdc9fcb30</td>\n",
              "      <td>ec90fdb12b50cbc</td>\n",
              "      <td>19e2e</td>\n",
              "      <td>19e2e</td>\n",
              "      <td>/MMplBlWjh</td>\n",
              "      <td>/MMplBlWjh</td>\n",
              "    </tr>\n",
              "    <tr>\n",
              "      <th>6</th>\n",
              "      <td>Voice</td>\n",
              "      <td>41</td>\n",
              "      <td>2012-05-07 23:06:14.0</td>\n",
              "      <td>1</td>\n",
              "      <td>eafaf521153b405</td>\n",
              "      <td>70a60b7bca83a58</td>\n",
              "      <td>19e2e</td>\n",
              "      <td>19e2e</td>\n",
              "      <td>+laSrk7g6q</td>\n",
              "      <td>+laSrk7g6q</td>\n",
              "    </tr>\n",
              "    <tr>\n",
              "      <th>7</th>\n",
              "      <td>Voice</td>\n",
              "      <td>11</td>\n",
              "      <td>2012-05-07 23:06:28.0</td>\n",
              "      <td>0</td>\n",
              "      <td>a1799cdc5108a90</td>\n",
              "      <td>efee282793c4e56</td>\n",
              "      <td>19e2e</td>\n",
              "      <td>19e2e</td>\n",
              "      <td>+gySf02tKW</td>\n",
              "      <td>+gySf02tKW</td>\n",
              "    </tr>\n",
              "    <tr>\n",
              "      <th>8</th>\n",
              "      <td>sms</td>\n",
              "      <td>0</td>\n",
              "      <td>2012-05-07 23:06:35.0</td>\n",
              "      <td>2</td>\n",
              "      <td>f81bb99db8c0373</td>\n",
              "      <td>7af76c2046e02f3</td>\n",
              "      <td>19e2e</td>\n",
              "      <td>OTHER</td>\n",
              "      <td>/0FxP3az1x</td>\n",
              "      <td>/0FxP3az1x</td>\n",
              "    </tr>\n",
              "    <tr>\n",
              "      <th>9</th>\n",
              "      <td>sms</td>\n",
              "      <td>0</td>\n",
              "      <td>2012-05-07 23:06:50.0</td>\n",
              "      <td>0</td>\n",
              "      <td>6a7d89469dc20e9</td>\n",
              "      <td>3690c6c0444c0c0</td>\n",
              "      <td>19e2e</td>\n",
              "      <td>19e2e</td>\n",
              "      <td>0ecjmwPX21</td>\n",
              "      <td>0ecjmwPX21</td>\n",
              "    </tr>\n",
              "  </tbody>\n",
              "</table>\n",
              "</div>"
            ],
            "text/plain": [
              "  product  bill               datetime  ... country_b     cell_id     site_id\n",
              "0     sms     0  2012-05-07 23:02:06.0  ...     19e2e  +854AcBQT2  +854AcBQT2\n",
              "1   Voice     0  2012-05-07 23:03:44.0  ...     19e2e  +854AcBQT2  +854AcBQT2\n",
              "2     sms     0  2012-05-07 23:04:06.0  ...     19e2e  +laSrk7g6q  +laSrk7g6q\n",
              "3   Voice    37  2012-05-07 23:04:48.0  ...     19e2e  /xvRrCVKoQ  /xvRrCVKoQ\n",
              "4     sms    25  2012-05-07 23:04:58.0  ...     19e2e  +bO+qkSonO  +bO+qkSonO\n",
              "5     sms     0  2012-05-07 23:05:41.0  ...     19e2e  /MMplBlWjh  /MMplBlWjh\n",
              "6   Voice    41  2012-05-07 23:06:14.0  ...     19e2e  +laSrk7g6q  +laSrk7g6q\n",
              "7   Voice    11  2012-05-07 23:06:28.0  ...     19e2e  +gySf02tKW  +gySf02tKW\n",
              "8     sms     0  2012-05-07 23:06:35.0  ...     OTHER  /0FxP3az1x  /0FxP3az1x\n",
              "9     sms     0  2012-05-07 23:06:50.0  ...     19e2e  0ecjmwPX21  0ecjmwPX21\n",
              "\n",
              "[10 rows x 10 columns]"
            ]
          },
          "metadata": {
            "tags": []
          },
          "execution_count": 9
        }
      ]
    },
    {
      "cell_type": "code",
      "metadata": {
        "id": "XbXjp0YemERu",
        "colab_type": "code",
        "colab": {
          "base_uri": "https://localhost:8080/",
          "height": 335
        },
        "outputId": "a487c434-0749-489f-fb47-7711315e2069"
      },
      "source": [
        "cdr_09.head(10)"
      ],
      "execution_count": 10,
      "outputs": [
        {
          "output_type": "execute_result",
          "data": {
            "text/html": [
              "<div>\n",
              "<style scoped>\n",
              "    .dataframe tbody tr th:only-of-type {\n",
              "        vertical-align: middle;\n",
              "    }\n",
              "\n",
              "    .dataframe tbody tr th {\n",
              "        vertical-align: top;\n",
              "    }\n",
              "\n",
              "    .dataframe thead th {\n",
              "        text-align: right;\n",
              "    }\n",
              "</style>\n",
              "<table border=\"1\" class=\"dataframe\">\n",
              "  <thead>\n",
              "    <tr style=\"text-align: right;\">\n",
              "      <th></th>\n",
              "      <th>product</th>\n",
              "      <th>bill</th>\n",
              "      <th>datetime</th>\n",
              "      <th>cell_on_site</th>\n",
              "      <th>caller_anonymized</th>\n",
              "      <th>recipient_anonymized</th>\n",
              "      <th>country_a</th>\n",
              "      <th>country_b</th>\n",
              "      <th>cell_id</th>\n",
              "      <th>site_id</th>\n",
              "    </tr>\n",
              "  </thead>\n",
              "  <tbody>\n",
              "    <tr>\n",
              "      <th>0</th>\n",
              "      <td>Voice</td>\n",
              "      <td>61</td>\n",
              "      <td>2012-05-08 23:01:28.0</td>\n",
              "      <td>2</td>\n",
              "      <td>966f68353622feb</td>\n",
              "      <td>ffd53a3bb2db6f1</td>\n",
              "      <td>19e2e</td>\n",
              "      <td>19e2e</td>\n",
              "      <td>+38u2u/rfx</td>\n",
              "      <td>+38u2u/rfx</td>\n",
              "    </tr>\n",
              "    <tr>\n",
              "      <th>1</th>\n",
              "      <td>sms</td>\n",
              "      <td>0</td>\n",
              "      <td>2012-05-08 23:01:31.0</td>\n",
              "      <td>1</td>\n",
              "      <td>a0a597384c612d7</td>\n",
              "      <td>cf3b218f1dde792</td>\n",
              "      <td>19e2e</td>\n",
              "      <td>19e2e</td>\n",
              "      <td>+Fs4mTvdKx</td>\n",
              "      <td>+Fs4mTvdKx</td>\n",
              "    </tr>\n",
              "    <tr>\n",
              "      <th>2</th>\n",
              "      <td>Voice</td>\n",
              "      <td>10</td>\n",
              "      <td>2012-05-08 23:02:59.0</td>\n",
              "      <td>1</td>\n",
              "      <td>5441a9a58c97132</td>\n",
              "      <td>52f8b299515b9b7</td>\n",
              "      <td>19e2e</td>\n",
              "      <td>19e2e</td>\n",
              "      <td>+ZaaZozy/+</td>\n",
              "      <td>+ZaaZozy/+</td>\n",
              "    </tr>\n",
              "    <tr>\n",
              "      <th>3</th>\n",
              "      <td>sms</td>\n",
              "      <td>0</td>\n",
              "      <td>2012-05-08 23:03:04.0</td>\n",
              "      <td>0</td>\n",
              "      <td>8ab8b9ed6989f61</td>\n",
              "      <td>e09e736e46c5c3d</td>\n",
              "      <td>19e2e</td>\n",
              "      <td>19e2e</td>\n",
              "      <td>+cNeJzsTp3</td>\n",
              "      <td>+cNeJzsTp3</td>\n",
              "    </tr>\n",
              "    <tr>\n",
              "      <th>4</th>\n",
              "      <td>Voice</td>\n",
              "      <td>22</td>\n",
              "      <td>2012-05-08 23:03:16.0</td>\n",
              "      <td>4</td>\n",
              "      <td>52662a62b199334</td>\n",
              "      <td>2186273faab4602</td>\n",
              "      <td>19e2e</td>\n",
              "      <td>19e2e</td>\n",
              "      <td>/eeMklgyJA</td>\n",
              "      <td>/eeMklgyJA</td>\n",
              "    </tr>\n",
              "    <tr>\n",
              "      <th>5</th>\n",
              "      <td>Voice</td>\n",
              "      <td>10</td>\n",
              "      <td>2012-05-08 23:03:59.0</td>\n",
              "      <td>0</td>\n",
              "      <td>c572f692ed9d25f</td>\n",
              "      <td>5e6221fa6b35f62</td>\n",
              "      <td>19e2e</td>\n",
              "      <td>19e2e</td>\n",
              "      <td>+e+xcimwre</td>\n",
              "      <td>+e+xcimwre</td>\n",
              "    </tr>\n",
              "    <tr>\n",
              "      <th>6</th>\n",
              "      <td>sms</td>\n",
              "      <td>0</td>\n",
              "      <td>2012-05-08 23:06:06.0</td>\n",
              "      <td>0</td>\n",
              "      <td>32cc9a0c68cc9ee</td>\n",
              "      <td>9eb1b241c685914</td>\n",
              "      <td>19e2e</td>\n",
              "      <td>19e2e</td>\n",
              "      <td>+R5ccmtyJf</td>\n",
              "      <td>+R5ccmtyJf</td>\n",
              "    </tr>\n",
              "    <tr>\n",
              "      <th>7</th>\n",
              "      <td>Voice</td>\n",
              "      <td>10</td>\n",
              "      <td>2012-05-08 23:06:55.0</td>\n",
              "      <td>1</td>\n",
              "      <td>38c234bf93b3aac</td>\n",
              "      <td>ae0bd079dc09dd5</td>\n",
              "      <td>19e2e</td>\n",
              "      <td>19e2e</td>\n",
              "      <td>+ZaaZozy/+</td>\n",
              "      <td>+ZaaZozy/+</td>\n",
              "    </tr>\n",
              "    <tr>\n",
              "      <th>8</th>\n",
              "      <td>sms</td>\n",
              "      <td>25</td>\n",
              "      <td>2012-05-08 23:07:09.0</td>\n",
              "      <td>1</td>\n",
              "      <td>6dd0d088cceca75</td>\n",
              "      <td>9bdc6a2acd8ee15</td>\n",
              "      <td>19e2e</td>\n",
              "      <td>19e2e</td>\n",
              "      <td>13O1+JEun3</td>\n",
              "      <td>13O1+JEun3</td>\n",
              "    </tr>\n",
              "    <tr>\n",
              "      <th>9</th>\n",
              "      <td>sms</td>\n",
              "      <td>0</td>\n",
              "      <td>2012-05-08 23:07:38.0</td>\n",
              "      <td>0</td>\n",
              "      <td>9572b11240ca426</td>\n",
              "      <td>64898ae3aa9cc93</td>\n",
              "      <td>19e2e</td>\n",
              "      <td>19e2e</td>\n",
              "      <td>/eeMklgyJA</td>\n",
              "      <td>/eeMklgyJA</td>\n",
              "    </tr>\n",
              "  </tbody>\n",
              "</table>\n",
              "</div>"
            ],
            "text/plain": [
              "  product  bill               datetime  ... country_b     cell_id     site_id\n",
              "0   Voice    61  2012-05-08 23:01:28.0  ...     19e2e  +38u2u/rfx  +38u2u/rfx\n",
              "1     sms     0  2012-05-08 23:01:31.0  ...     19e2e  +Fs4mTvdKx  +Fs4mTvdKx\n",
              "2   Voice    10  2012-05-08 23:02:59.0  ...     19e2e  +ZaaZozy/+  +ZaaZozy/+\n",
              "3     sms     0  2012-05-08 23:03:04.0  ...     19e2e  +cNeJzsTp3  +cNeJzsTp3\n",
              "4   Voice    22  2012-05-08 23:03:16.0  ...     19e2e  /eeMklgyJA  /eeMklgyJA\n",
              "5   Voice    10  2012-05-08 23:03:59.0  ...     19e2e  +e+xcimwre  +e+xcimwre\n",
              "6     sms     0  2012-05-08 23:06:06.0  ...     19e2e  +R5ccmtyJf  +R5ccmtyJf\n",
              "7   Voice    10  2012-05-08 23:06:55.0  ...     19e2e  +ZaaZozy/+  +ZaaZozy/+\n",
              "8     sms    25  2012-05-08 23:07:09.0  ...     19e2e  13O1+JEun3  13O1+JEun3\n",
              "9     sms     0  2012-05-08 23:07:38.0  ...     19e2e  /eeMklgyJA  /eeMklgyJA\n",
              "\n",
              "[10 rows x 10 columns]"
            ]
          },
          "metadata": {
            "tags": []
          },
          "execution_count": 10
        }
      ]
    },
    {
      "cell_type": "code",
      "metadata": {
        "id": "0h6wsKKgmIPi",
        "colab_type": "code",
        "colab": {}
      },
      "source": [
        "# drop unneccesary columns\n",
        "to_drop = ['cell_on_site','country_a','country_b']\n",
        "cdr_07.drop(to_drop, axis=1,inplace=True)\n",
        "cdr_08.drop(to_drop, axis=1,inplace=True)\n",
        "cdr_09.drop(to_drop, axis=1,inplace=True)"
      ],
      "execution_count": 11,
      "outputs": []
    },
    {
      "cell_type": "code",
      "metadata": {
        "id": "TT727mfXnKPj",
        "colab_type": "code",
        "colab": {
          "base_uri": "https://localhost:8080/",
          "height": 33
        },
        "outputId": "222d45df-8a34-405a-f591-cd14b1bcf279"
      },
      "source": [
        "# Check shape of datasets\n",
        "geo_df.shape"
      ],
      "execution_count": 12,
      "outputs": [
        {
          "output_type": "execute_result",
          "data": {
            "text/plain": [
              "(3974, 11)"
            ]
          },
          "metadata": {
            "tags": []
          },
          "execution_count": 12
        }
      ]
    },
    {
      "cell_type": "code",
      "metadata": {
        "id": "OYNkodfcnUE-",
        "colab_type": "code",
        "colab": {
          "base_uri": "https://localhost:8080/",
          "height": 310
        },
        "outputId": "657f1448-857c-4c80-eb77-dde49d2bddaf"
      },
      "source": [
        "geo_df.info()"
      ],
      "execution_count": 13,
      "outputs": [
        {
          "output_type": "stream",
          "text": [
            "<class 'pandas.core.frame.DataFrame'>\n",
            "RangeIndex: 3974 entries, 0 to 3973\n",
            "Data columns (total 11 columns):\n",
            " #   Column        Non-Null Count  Dtype  \n",
            "---  ------        --------------  -----  \n",
            " 0   VILLES        3974 non-null   object \n",
            " 1   STATUS        3907 non-null   object \n",
            " 2   LOCALISATION  3974 non-null   object \n",
            " 3   DECOUPZONE    3974 non-null   object \n",
            " 4   ZONENAME      3968 non-null   object \n",
            " 5   LONGITUDE     3974 non-null   float64\n",
            " 6   LATITUDE      3974 non-null   float64\n",
            " 7   REGION        3974 non-null   object \n",
            " 8   AREA          3951 non-null   object \n",
            " 9   CELL_ID       3974 non-null   object \n",
            " 10  SITE_CODE     3974 non-null   object \n",
            "dtypes: float64(2), object(9)\n",
            "memory usage: 341.6+ KB\n"
          ],
          "name": "stdout"
        }
      ]
    },
    {
      "cell_type": "code",
      "metadata": {
        "id": "4v3F0_FWnUN_",
        "colab_type": "code",
        "colab": {
          "base_uri": "https://localhost:8080/",
          "height": 33
        },
        "outputId": "bb6d5894-d4d2-422b-a77a-bbff32ded93e"
      },
      "source": [
        "cdr_07.shape"
      ],
      "execution_count": 14,
      "outputs": [
        {
          "output_type": "execute_result",
          "data": {
            "text/plain": [
              "(5001, 7)"
            ]
          },
          "metadata": {
            "tags": []
          },
          "execution_count": 14
        }
      ]
    },
    {
      "cell_type": "code",
      "metadata": {
        "id": "e7yevAa8nUZn",
        "colab_type": "code",
        "colab": {
          "base_uri": "https://localhost:8080/",
          "height": 245
        },
        "outputId": "9bc37331-e015-4a14-f9b3-d96fe7162998"
      },
      "source": [
        "cdr_07.info()"
      ],
      "execution_count": 15,
      "outputs": [
        {
          "output_type": "stream",
          "text": [
            "<class 'pandas.core.frame.DataFrame'>\n",
            "RangeIndex: 5001 entries, 0 to 5000\n",
            "Data columns (total 7 columns):\n",
            " #   Column                Non-Null Count  Dtype \n",
            "---  ------                --------------  ----- \n",
            " 0   product               5001 non-null   object\n",
            " 1   bill                  5001 non-null   int64 \n",
            " 2   datetime              5001 non-null   object\n",
            " 3   caller_anonymized     5001 non-null   object\n",
            " 4   recipient_anonymized  5001 non-null   object\n",
            " 5   cell_id               5001 non-null   object\n",
            " 6   site_id               4285 non-null   object\n",
            "dtypes: int64(1), object(6)\n",
            "memory usage: 273.6+ KB\n"
          ],
          "name": "stdout"
        }
      ]
    },
    {
      "cell_type": "code",
      "metadata": {
        "id": "dQtDccD0n_Bv",
        "colab_type": "code",
        "colab": {
          "base_uri": "https://localhost:8080/",
          "height": 33
        },
        "outputId": "c7effb13-92aa-4d74-fa3b-1dded551aaeb"
      },
      "source": [
        "cdr_08.shape"
      ],
      "execution_count": 16,
      "outputs": [
        {
          "output_type": "execute_result",
          "data": {
            "text/plain": [
              "(5001, 7)"
            ]
          },
          "metadata": {
            "tags": []
          },
          "execution_count": 16
        }
      ]
    },
    {
      "cell_type": "code",
      "metadata": {
        "id": "JcHO43uMn_LT",
        "colab_type": "code",
        "colab": {
          "base_uri": "https://localhost:8080/",
          "height": 245
        },
        "outputId": "07696af7-a036-4008-a34a-d53ccf4c6dca"
      },
      "source": [
        "cdr_08.info()"
      ],
      "execution_count": 17,
      "outputs": [
        {
          "output_type": "stream",
          "text": [
            "<class 'pandas.core.frame.DataFrame'>\n",
            "RangeIndex: 5001 entries, 0 to 5000\n",
            "Data columns (total 7 columns):\n",
            " #   Column                Non-Null Count  Dtype \n",
            "---  ------                --------------  ----- \n",
            " 0   product               5001 non-null   object\n",
            " 1   bill                  5001 non-null   int64 \n",
            " 2   datetime              5001 non-null   object\n",
            " 3   caller_anonymized     5001 non-null   object\n",
            " 4   recipient_anonymized  5001 non-null   object\n",
            " 5   cell_id               5001 non-null   object\n",
            " 6   site_id               4325 non-null   object\n",
            "dtypes: int64(1), object(6)\n",
            "memory usage: 273.6+ KB\n"
          ],
          "name": "stdout"
        }
      ]
    },
    {
      "cell_type": "code",
      "metadata": {
        "id": "HuTZTpuVn_VG",
        "colab_type": "code",
        "colab": {
          "base_uri": "https://localhost:8080/",
          "height": 33
        },
        "outputId": "cc6609f0-8f62-4e5d-fea0-70227efd83f6"
      },
      "source": [
        "cdr_09.shape"
      ],
      "execution_count": 18,
      "outputs": [
        {
          "output_type": "execute_result",
          "data": {
            "text/plain": [
              "(5001, 7)"
            ]
          },
          "metadata": {
            "tags": []
          },
          "execution_count": 18
        }
      ]
    },
    {
      "cell_type": "code",
      "metadata": {
        "id": "7IbJHySNn_g7",
        "colab_type": "code",
        "colab": {
          "base_uri": "https://localhost:8080/",
          "height": 245
        },
        "outputId": "015f56b6-968b-4b09-c0cb-f2402192a503"
      },
      "source": [
        "cdr_09.info()"
      ],
      "execution_count": 19,
      "outputs": [
        {
          "output_type": "stream",
          "text": [
            "<class 'pandas.core.frame.DataFrame'>\n",
            "RangeIndex: 5001 entries, 0 to 5000\n",
            "Data columns (total 7 columns):\n",
            " #   Column                Non-Null Count  Dtype \n",
            "---  ------                --------------  ----- \n",
            " 0   product               5001 non-null   object\n",
            " 1   bill                  5001 non-null   int64 \n",
            " 2   datetime              5001 non-null   object\n",
            " 3   caller_anonymized     5001 non-null   object\n",
            " 4   recipient_anonymized  5001 non-null   object\n",
            " 5   cell_id               5001 non-null   object\n",
            " 6   site_id               4396 non-null   object\n",
            "dtypes: int64(1), object(6)\n",
            "memory usage: 273.6+ KB\n"
          ],
          "name": "stdout"
        }
      ]
    },
    {
      "cell_type": "code",
      "metadata": {
        "id": "XKPKl7YUnEU5",
        "colab_type": "code",
        "colab": {
          "base_uri": "https://localhost:8080/",
          "height": 212
        },
        "outputId": "dc57b504-7ce6-4144-ea4b-bf255a24cf37"
      },
      "source": [
        "# Check for missing values\n",
        "geo_df.isnull().sum().sort_values(ascending=False)"
      ],
      "execution_count": 20,
      "outputs": [
        {
          "output_type": "execute_result",
          "data": {
            "text/plain": [
              "STATUS          67\n",
              "AREA            23\n",
              "ZONENAME         6\n",
              "SITE_CODE        0\n",
              "CELL_ID          0\n",
              "REGION           0\n",
              "LATITUDE         0\n",
              "LONGITUDE        0\n",
              "DECOUPZONE       0\n",
              "LOCALISATION     0\n",
              "VILLES           0\n",
              "dtype: int64"
            ]
          },
          "metadata": {
            "tags": []
          },
          "execution_count": 20
        }
      ]
    },
    {
      "cell_type": "code",
      "metadata": {
        "id": "pUK-NlKpoxDj",
        "colab_type": "code",
        "colab": {
          "base_uri": "https://localhost:8080/",
          "height": 66
        },
        "outputId": "e1271627-7dff-47dd-9224-5151def4c428"
      },
      "source": [
        "#Check for duplicates\n",
        "geo_df.duplicated().value_counts()"
      ],
      "execution_count": 21,
      "outputs": [
        {
          "output_type": "execute_result",
          "data": {
            "text/plain": [
              "False    3931\n",
              "True       43\n",
              "dtype: int64"
            ]
          },
          "metadata": {
            "tags": []
          },
          "execution_count": 21
        }
      ]
    },
    {
      "cell_type": "code",
      "metadata": {
        "id": "SGkDiOKTpNC-",
        "colab_type": "code",
        "colab": {
          "base_uri": "https://localhost:8080/",
          "height": 147
        },
        "outputId": "29924507-7f2a-41a1-e234-ef99ac3944de"
      },
      "source": [
        "#Check for missing values\n",
        "cdr_07.isnull().sum().sort_values(ascending=False)"
      ],
      "execution_count": 22,
      "outputs": [
        {
          "output_type": "execute_result",
          "data": {
            "text/plain": [
              "site_id                 716\n",
              "cell_id                   0\n",
              "recipient_anonymized      0\n",
              "caller_anonymized         0\n",
              "datetime                  0\n",
              "bill                      0\n",
              "product                   0\n",
              "dtype: int64"
            ]
          },
          "metadata": {
            "tags": []
          },
          "execution_count": 22
        }
      ]
    },
    {
      "cell_type": "code",
      "metadata": {
        "id": "JVCSFre6pxho",
        "colab_type": "code",
        "colab": {
          "base_uri": "https://localhost:8080/",
          "height": 147
        },
        "outputId": "ec4bc53f-6d99-4213-958d-c91a7d9a7a6b"
      },
      "source": [
        "cdr_08.isnull().sum().sort_values(ascending=False)"
      ],
      "execution_count": 23,
      "outputs": [
        {
          "output_type": "execute_result",
          "data": {
            "text/plain": [
              "site_id                 676\n",
              "cell_id                   0\n",
              "recipient_anonymized      0\n",
              "caller_anonymized         0\n",
              "datetime                  0\n",
              "bill                      0\n",
              "product                   0\n",
              "dtype: int64"
            ]
          },
          "metadata": {
            "tags": []
          },
          "execution_count": 23
        }
      ]
    },
    {
      "cell_type": "code",
      "metadata": {
        "id": "GOhIyeBGp5P5",
        "colab_type": "code",
        "colab": {
          "base_uri": "https://localhost:8080/",
          "height": 147
        },
        "outputId": "5f43d419-3d60-4df7-d3a8-f4e7f60ac337"
      },
      "source": [
        "cdr_09.isnull().sum().sort_values(ascending=False)"
      ],
      "execution_count": 24,
      "outputs": [
        {
          "output_type": "execute_result",
          "data": {
            "text/plain": [
              "site_id                 605\n",
              "cell_id                   0\n",
              "recipient_anonymized      0\n",
              "caller_anonymized         0\n",
              "datetime                  0\n",
              "bill                      0\n",
              "product                   0\n",
              "dtype: int64"
            ]
          },
          "metadata": {
            "tags": []
          },
          "execution_count": 24
        }
      ]
    },
    {
      "cell_type": "code",
      "metadata": {
        "id": "qZpAJqOHp9J9",
        "colab_type": "code",
        "colab": {
          "base_uri": "https://localhost:8080/",
          "height": 66
        },
        "outputId": "cd548879-9341-45a4-cf4c-144b6a2c1356"
      },
      "source": [
        "#Check for duplicates\n",
        "cdr_07.duplicated().value_counts()"
      ],
      "execution_count": 25,
      "outputs": [
        {
          "output_type": "execute_result",
          "data": {
            "text/plain": [
              "False    4919\n",
              "True       82\n",
              "dtype: int64"
            ]
          },
          "metadata": {
            "tags": []
          },
          "execution_count": 25
        }
      ]
    },
    {
      "cell_type": "code",
      "metadata": {
        "id": "OgmwOQ5ZqJ6q",
        "colab_type": "code",
        "colab": {
          "base_uri": "https://localhost:8080/",
          "height": 66
        },
        "outputId": "38bfb900-dfe0-44a4-bc5d-d62748d458c2"
      },
      "source": [
        "cdr_08.duplicated().value_counts()"
      ],
      "execution_count": 26,
      "outputs": [
        {
          "output_type": "execute_result",
          "data": {
            "text/plain": [
              "False    4923\n",
              "True       78\n",
              "dtype: int64"
            ]
          },
          "metadata": {
            "tags": []
          },
          "execution_count": 26
        }
      ]
    },
    {
      "cell_type": "code",
      "metadata": {
        "id": "Zhs28eLxqS_W",
        "colab_type": "code",
        "colab": {
          "base_uri": "https://localhost:8080/",
          "height": 66
        },
        "outputId": "4b98b183-1f01-475d-f847-07550dac855c"
      },
      "source": [
        "cdr_09.duplicated().value_counts()"
      ],
      "execution_count": 27,
      "outputs": [
        {
          "output_type": "execute_result",
          "data": {
            "text/plain": [
              "False    4908\n",
              "True       93\n",
              "dtype: int64"
            ]
          },
          "metadata": {
            "tags": []
          },
          "execution_count": 27
        }
      ]
    },
    {
      "cell_type": "code",
      "metadata": {
        "id": "QN3b_jASqWc_",
        "colab_type": "code",
        "colab": {}
      },
      "source": [
        "# Drop all duplicates\n",
        "geo_df.drop_duplicates(inplace=True)\n",
        "cdr_07.drop_duplicates(inplace=True)\n",
        "cdr_08.drop_duplicates(inplace=True)\n",
        "cdr_09.drop_duplicates(inplace=True)"
      ],
      "execution_count": 28,
      "outputs": []
    },
    {
      "cell_type": "code",
      "metadata": {
        "id": "Aexdn8ejrDAd",
        "colab_type": "code",
        "colab": {}
      },
      "source": [
        "# Join cdr_07, cdr_08, cdr_09 dataframes\n",
        "cdr_all = pd.concat([cdr_07,cdr_08,cdr_09], axis=0, join='outer',ignore_index=True)"
      ],
      "execution_count": 29,
      "outputs": []
    },
    {
      "cell_type": "code",
      "metadata": {
        "id": "8w97UQH0rHHr",
        "colab_type": "code",
        "colab": {
          "base_uri": "https://localhost:8080/",
          "height": 191
        },
        "outputId": "2ab1c530-5a0c-4844-94f5-cf9fcdb7a7b5"
      },
      "source": [
        "cdr_all.head()"
      ],
      "execution_count": 30,
      "outputs": [
        {
          "output_type": "execute_result",
          "data": {
            "text/html": [
              "<div>\n",
              "<style scoped>\n",
              "    .dataframe tbody tr th:only-of-type {\n",
              "        vertical-align: middle;\n",
              "    }\n",
              "\n",
              "    .dataframe tbody tr th {\n",
              "        vertical-align: top;\n",
              "    }\n",
              "\n",
              "    .dataframe thead th {\n",
              "        text-align: right;\n",
              "    }\n",
              "</style>\n",
              "<table border=\"1\" class=\"dataframe\">\n",
              "  <thead>\n",
              "    <tr style=\"text-align: right;\">\n",
              "      <th></th>\n",
              "      <th>product</th>\n",
              "      <th>bill</th>\n",
              "      <th>datetime</th>\n",
              "      <th>caller_anonymized</th>\n",
              "      <th>recipient_anonymized</th>\n",
              "      <th>cell_id</th>\n",
              "      <th>site_id</th>\n",
              "    </tr>\n",
              "  </thead>\n",
              "  <tbody>\n",
              "    <tr>\n",
              "      <th>0</th>\n",
              "      <td>Voice</td>\n",
              "      <td>0</td>\n",
              "      <td>2012-05-06 23:04:37.0</td>\n",
              "      <td>49fae048b547780</td>\n",
              "      <td>1a49f8b0ded9de6</td>\n",
              "      <td>/TJNe+Mmtu</td>\n",
              "      <td>/TJNe+Mmtu</td>\n",
              "    </tr>\n",
              "    <tr>\n",
              "      <th>1</th>\n",
              "      <td>sms</td>\n",
              "      <td>0</td>\n",
              "      <td>2012-05-06 23:05:25.0</td>\n",
              "      <td>7a54a6eaee19e65</td>\n",
              "      <td>93343ba6e41af95</td>\n",
              "      <td>/+cKZKIp41</td>\n",
              "      <td>/+cKZKIp41</td>\n",
              "    </tr>\n",
              "    <tr>\n",
              "      <th>2</th>\n",
              "      <td>sms</td>\n",
              "      <td>25</td>\n",
              "      <td>2012-05-06 23:05:41.0</td>\n",
              "      <td>6008887b0207d82</td>\n",
              "      <td>7aacc9709ce0a20</td>\n",
              "      <td>/u0FSD+ahi</td>\n",
              "      <td>/u0FSD+ahi</td>\n",
              "    </tr>\n",
              "    <tr>\n",
              "      <th>3</th>\n",
              "      <td>Voice</td>\n",
              "      <td>56</td>\n",
              "      <td>2012-05-06 23:05:42.0</td>\n",
              "      <td>7370032e20f4e96</td>\n",
              "      <td>6af4a60e74c91d3</td>\n",
              "      <td>+cNeJzsTp3</td>\n",
              "      <td>+cNeJzsTp3</td>\n",
              "    </tr>\n",
              "    <tr>\n",
              "      <th>4</th>\n",
              "      <td>Voice</td>\n",
              "      <td>14</td>\n",
              "      <td>2012-05-06 23:06:29.0</td>\n",
              "      <td>966ba4656e38e62</td>\n",
              "      <td>02aa736ee555d5c</td>\n",
              "      <td>051KhYDCpv</td>\n",
              "      <td>051KhYDCpv</td>\n",
              "    </tr>\n",
              "  </tbody>\n",
              "</table>\n",
              "</div>"
            ],
            "text/plain": [
              "  product  bill  ...     cell_id     site_id\n",
              "0   Voice     0  ...  /TJNe+Mmtu  /TJNe+Mmtu\n",
              "1     sms     0  ...  /+cKZKIp41  /+cKZKIp41\n",
              "2     sms    25  ...  /u0FSD+ahi  /u0FSD+ahi\n",
              "3   Voice    56  ...  +cNeJzsTp3  +cNeJzsTp3\n",
              "4   Voice    14  ...  051KhYDCpv  051KhYDCpv\n",
              "\n",
              "[5 rows x 7 columns]"
            ]
          },
          "metadata": {
            "tags": []
          },
          "execution_count": 30
        }
      ]
    },
    {
      "cell_type": "code",
      "metadata": {
        "id": "c4iiaT7VxZWZ",
        "colab_type": "code",
        "colab": {
          "base_uri": "https://localhost:8080/",
          "height": 191
        },
        "outputId": "7ab9f0c3-550f-45fd-c337-d221b0227435"
      },
      "source": [
        "cdr_all.tail()"
      ],
      "execution_count": 31,
      "outputs": [
        {
          "output_type": "execute_result",
          "data": {
            "text/html": [
              "<div>\n",
              "<style scoped>\n",
              "    .dataframe tbody tr th:only-of-type {\n",
              "        vertical-align: middle;\n",
              "    }\n",
              "\n",
              "    .dataframe tbody tr th {\n",
              "        vertical-align: top;\n",
              "    }\n",
              "\n",
              "    .dataframe thead th {\n",
              "        text-align: right;\n",
              "    }\n",
              "</style>\n",
              "<table border=\"1\" class=\"dataframe\">\n",
              "  <thead>\n",
              "    <tr style=\"text-align: right;\">\n",
              "      <th></th>\n",
              "      <th>product</th>\n",
              "      <th>bill</th>\n",
              "      <th>datetime</th>\n",
              "      <th>caller_anonymized</th>\n",
              "      <th>recipient_anonymized</th>\n",
              "      <th>cell_id</th>\n",
              "      <th>site_id</th>\n",
              "    </tr>\n",
              "  </thead>\n",
              "  <tbody>\n",
              "    <tr>\n",
              "      <th>14745</th>\n",
              "      <td>Voice</td>\n",
              "      <td>10</td>\n",
              "      <td>2012-05-09 00:01:43.0</td>\n",
              "      <td>2f834987f0c1825</td>\n",
              "      <td>accc8e5c1164343</td>\n",
              "      <td>6467daa1db</td>\n",
              "      <td>8a96bae9c1</td>\n",
              "    </tr>\n",
              "    <tr>\n",
              "      <th>14746</th>\n",
              "      <td>Voice</td>\n",
              "      <td>0</td>\n",
              "      <td>2012-05-09 00:01:43.0</td>\n",
              "      <td>467333ade2b4b9c</td>\n",
              "      <td>0ab2acd804d01fe</td>\n",
              "      <td>2aa04dcab7</td>\n",
              "      <td>f7d63a29e5</td>\n",
              "    </tr>\n",
              "    <tr>\n",
              "      <th>14747</th>\n",
              "      <td>Voice</td>\n",
              "      <td>62</td>\n",
              "      <td>2012-05-09 00:01:43.0</td>\n",
              "      <td>e077a6b74c5053c</td>\n",
              "      <td>4c8098eb6ea1a41</td>\n",
              "      <td>7f1f2f889f</td>\n",
              "      <td>b4ddb9e93c</td>\n",
              "    </tr>\n",
              "    <tr>\n",
              "      <th>14748</th>\n",
              "      <td>Voice</td>\n",
              "      <td>30</td>\n",
              "      <td>2012-05-09 00:01:43.0</td>\n",
              "      <td>672ce74c418aa7a</td>\n",
              "      <td>f9ff5af59cf0d68</td>\n",
              "      <td>98ed726da2</td>\n",
              "      <td>b4130b54ab</td>\n",
              "    </tr>\n",
              "    <tr>\n",
              "      <th>14749</th>\n",
              "      <td>Voice</td>\n",
              "      <td>60</td>\n",
              "      <td>2012-05-09 00:01:43.0</td>\n",
              "      <td>6edeb4c55714650</td>\n",
              "      <td>7e60838216482a7</td>\n",
              "      <td>1c11a2fcbb</td>\n",
              "      <td>6d70dae094</td>\n",
              "    </tr>\n",
              "  </tbody>\n",
              "</table>\n",
              "</div>"
            ],
            "text/plain": [
              "      product  bill  ...     cell_id     site_id\n",
              "14745   Voice    10  ...  6467daa1db  8a96bae9c1\n",
              "14746   Voice     0  ...  2aa04dcab7  f7d63a29e5\n",
              "14747   Voice    62  ...  7f1f2f889f  b4ddb9e93c\n",
              "14748   Voice    30  ...  98ed726da2  b4130b54ab\n",
              "14749   Voice    60  ...  1c11a2fcbb  6d70dae094\n",
              "\n",
              "[5 rows x 7 columns]"
            ]
          },
          "metadata": {
            "tags": []
          },
          "execution_count": 31
        }
      ]
    },
    {
      "cell_type": "code",
      "metadata": {
        "id": "DC1ZAeTyxkPv",
        "colab_type": "code",
        "colab": {
          "base_uri": "https://localhost:8080/",
          "height": 33
        },
        "outputId": "d43aa980-9456-42e7-a065-f0ab1cae0fc9"
      },
      "source": [
        "cdr_all.shape"
      ],
      "execution_count": 32,
      "outputs": [
        {
          "output_type": "execute_result",
          "data": {
            "text/plain": [
              "(14750, 7)"
            ]
          },
          "metadata": {
            "tags": []
          },
          "execution_count": 32
        }
      ]
    },
    {
      "cell_type": "markdown",
      "metadata": {
        "id": "BjxVR2klxzR6",
        "colab_type": "text"
      },
      "source": [
        "### Merge DataFrames"
      ]
    },
    {
      "cell_type": "code",
      "metadata": {
        "id": "41inH1JhyK79",
        "colab_type": "code",
        "colab": {}
      },
      "source": [
        "merged_df = pd.merge(cdr_all, geo_df, how='inner', left_on=['site_id'], right_on=['SITE_CODE'])"
      ],
      "execution_count": 33,
      "outputs": []
    },
    {
      "cell_type": "code",
      "metadata": {
        "id": "-ZVpCmmb0YK9",
        "colab_type": "code",
        "colab": {
          "base_uri": "https://localhost:8080/",
          "height": 33
        },
        "outputId": "6d5cfd85-2f85-45c7-c9a2-a4acdfb7dc90"
      },
      "source": [
        "merged_df.shape"
      ],
      "execution_count": 34,
      "outputs": [
        {
          "output_type": "execute_result",
          "data": {
            "text/plain": [
              "(49702, 18)"
            ]
          },
          "metadata": {
            "tags": []
          },
          "execution_count": 34
        }
      ]
    },
    {
      "cell_type": "code",
      "metadata": {
        "id": "sxo2ghco3aYL",
        "colab_type": "code",
        "colab": {
          "base_uri": "https://localhost:8080/",
          "height": 373
        },
        "outputId": "604feb72-b29e-4a8c-973d-3542c7d48498"
      },
      "source": [
        "merged_df.head()"
      ],
      "execution_count": 35,
      "outputs": [
        {
          "output_type": "execute_result",
          "data": {
            "text/html": [
              "<div>\n",
              "<style scoped>\n",
              "    .dataframe tbody tr th:only-of-type {\n",
              "        vertical-align: middle;\n",
              "    }\n",
              "\n",
              "    .dataframe tbody tr th {\n",
              "        vertical-align: top;\n",
              "    }\n",
              "\n",
              "    .dataframe thead th {\n",
              "        text-align: right;\n",
              "    }\n",
              "</style>\n",
              "<table border=\"1\" class=\"dataframe\">\n",
              "  <thead>\n",
              "    <tr style=\"text-align: right;\">\n",
              "      <th></th>\n",
              "      <th>product</th>\n",
              "      <th>bill</th>\n",
              "      <th>datetime</th>\n",
              "      <th>caller_anonymized</th>\n",
              "      <th>recipient_anonymized</th>\n",
              "      <th>cell_id</th>\n",
              "      <th>site_id</th>\n",
              "      <th>VILLES</th>\n",
              "      <th>STATUS</th>\n",
              "      <th>LOCALISATION</th>\n",
              "      <th>DECOUPZONE</th>\n",
              "      <th>ZONENAME</th>\n",
              "      <th>LONGITUDE</th>\n",
              "      <th>LATITUDE</th>\n",
              "      <th>REGION</th>\n",
              "      <th>AREA</th>\n",
              "      <th>CELL_ID</th>\n",
              "      <th>SITE_CODE</th>\n",
              "    </tr>\n",
              "  </thead>\n",
              "  <tbody>\n",
              "    <tr>\n",
              "      <th>0</th>\n",
              "      <td>sms</td>\n",
              "      <td>0</td>\n",
              "      <td>2012-05-07 00:00:00.0</td>\n",
              "      <td>8118c3aa53d6c7b</td>\n",
              "      <td>1d103ea638ad1f0</td>\n",
              "      <td>5d9dc897f7</td>\n",
              "      <td>1b5540c02d</td>\n",
              "      <td>BOUAKE</td>\n",
              "      <td>In Service</td>\n",
              "      <td>INTERIEUR</td>\n",
              "      <td>Grand-NORD</td>\n",
              "      <td>ZONE A - Grand-NORD</td>\n",
              "      <td>-5.027139</td>\n",
              "      <td>7.718417</td>\n",
              "      <td>VALLEE DU BANDAMA</td>\n",
              "      <td>CENTRE NORTH</td>\n",
              "      <td>24ccdda3d5</td>\n",
              "      <td>1b5540c02d</td>\n",
              "    </tr>\n",
              "    <tr>\n",
              "      <th>1</th>\n",
              "      <td>sms</td>\n",
              "      <td>0</td>\n",
              "      <td>2012-05-07 00:00:00.0</td>\n",
              "      <td>8118c3aa53d6c7b</td>\n",
              "      <td>1d103ea638ad1f0</td>\n",
              "      <td>5d9dc897f7</td>\n",
              "      <td>1b5540c02d</td>\n",
              "      <td>BOUAKE</td>\n",
              "      <td>In Service</td>\n",
              "      <td>INTERIEUR</td>\n",
              "      <td>Grand-NORD</td>\n",
              "      <td>ZONE A - Grand-NORD</td>\n",
              "      <td>-5.027139</td>\n",
              "      <td>7.718417</td>\n",
              "      <td>VALLEE DU BANDAMA</td>\n",
              "      <td>CENTRE NORTH</td>\n",
              "      <td>ebfc58af70</td>\n",
              "      <td>1b5540c02d</td>\n",
              "    </tr>\n",
              "    <tr>\n",
              "      <th>2</th>\n",
              "      <td>sms</td>\n",
              "      <td>0</td>\n",
              "      <td>2012-05-07 00:00:00.0</td>\n",
              "      <td>8118c3aa53d6c7b</td>\n",
              "      <td>1d103ea638ad1f0</td>\n",
              "      <td>5d9dc897f7</td>\n",
              "      <td>1b5540c02d</td>\n",
              "      <td>BOUAKE</td>\n",
              "      <td>In Service</td>\n",
              "      <td>INTERIEUR</td>\n",
              "      <td>Grand-NORD</td>\n",
              "      <td>ZONE A - Grand-NORD</td>\n",
              "      <td>-5.027139</td>\n",
              "      <td>7.718417</td>\n",
              "      <td>VALLEE DU BANDAMA</td>\n",
              "      <td>CENTRE NORTH</td>\n",
              "      <td>ba8ce6e4ef</td>\n",
              "      <td>1b5540c02d</td>\n",
              "    </tr>\n",
              "    <tr>\n",
              "      <th>3</th>\n",
              "      <td>sms</td>\n",
              "      <td>0</td>\n",
              "      <td>2012-05-07 00:00:00.0</td>\n",
              "      <td>8118c3aa53d6c7b</td>\n",
              "      <td>1d103ea638ad1f0</td>\n",
              "      <td>5d9dc897f7</td>\n",
              "      <td>1b5540c02d</td>\n",
              "      <td>BOUAKE</td>\n",
              "      <td>In Service</td>\n",
              "      <td>INTERIEUR</td>\n",
              "      <td>Grand-NORD</td>\n",
              "      <td>ZONE A - Grand-NORD</td>\n",
              "      <td>-5.027139</td>\n",
              "      <td>7.718417</td>\n",
              "      <td>VALLEE DU BANDAMA</td>\n",
              "      <td>CENTRE NORTH</td>\n",
              "      <td>c2545171dc</td>\n",
              "      <td>1b5540c02d</td>\n",
              "    </tr>\n",
              "    <tr>\n",
              "      <th>4</th>\n",
              "      <td>sms</td>\n",
              "      <td>0</td>\n",
              "      <td>2012-05-07 00:00:00.0</td>\n",
              "      <td>8118c3aa53d6c7b</td>\n",
              "      <td>1d103ea638ad1f0</td>\n",
              "      <td>5d9dc897f7</td>\n",
              "      <td>1b5540c02d</td>\n",
              "      <td>BOUAKE</td>\n",
              "      <td>In Service</td>\n",
              "      <td>INTERIEUR</td>\n",
              "      <td>Grand-NORD</td>\n",
              "      <td>ZONE A - Grand-NORD</td>\n",
              "      <td>-5.027139</td>\n",
              "      <td>7.718417</td>\n",
              "      <td>VALLEE DU BANDAMA</td>\n",
              "      <td>CENTRE NORTH</td>\n",
              "      <td>f15bd5483f</td>\n",
              "      <td>1b5540c02d</td>\n",
              "    </tr>\n",
              "  </tbody>\n",
              "</table>\n",
              "</div>"
            ],
            "text/plain": [
              "  product  bill               datetime  ...          AREA     CELL_ID   SITE_CODE\n",
              "0     sms     0  2012-05-07 00:00:00.0  ...  CENTRE NORTH  24ccdda3d5  1b5540c02d\n",
              "1     sms     0  2012-05-07 00:00:00.0  ...  CENTRE NORTH  ebfc58af70  1b5540c02d\n",
              "2     sms     0  2012-05-07 00:00:00.0  ...  CENTRE NORTH  ba8ce6e4ef  1b5540c02d\n",
              "3     sms     0  2012-05-07 00:00:00.0  ...  CENTRE NORTH  c2545171dc  1b5540c02d\n",
              "4     sms     0  2012-05-07 00:00:00.0  ...  CENTRE NORTH  f15bd5483f  1b5540c02d\n",
              "\n",
              "[5 rows x 18 columns]"
            ]
          },
          "metadata": {
            "tags": []
          },
          "execution_count": 35
        }
      ]
    },
    {
      "cell_type": "code",
      "metadata": {
        "id": "nPi33swO3gTx",
        "colab_type": "code",
        "colab": {
          "base_uri": "https://localhost:8080/",
          "height": 680
        },
        "outputId": "aa8f3cae-b69b-40d7-d888-50a0cbec9895"
      },
      "source": [
        "merged_df.sample(10)"
      ],
      "execution_count": 36,
      "outputs": [
        {
          "output_type": "execute_result",
          "data": {
            "text/html": [
              "<div>\n",
              "<style scoped>\n",
              "    .dataframe tbody tr th:only-of-type {\n",
              "        vertical-align: middle;\n",
              "    }\n",
              "\n",
              "    .dataframe tbody tr th {\n",
              "        vertical-align: top;\n",
              "    }\n",
              "\n",
              "    .dataframe thead th {\n",
              "        text-align: right;\n",
              "    }\n",
              "</style>\n",
              "<table border=\"1\" class=\"dataframe\">\n",
              "  <thead>\n",
              "    <tr style=\"text-align: right;\">\n",
              "      <th></th>\n",
              "      <th>product</th>\n",
              "      <th>bill</th>\n",
              "      <th>datetime</th>\n",
              "      <th>caller_anonymized</th>\n",
              "      <th>recipient_anonymized</th>\n",
              "      <th>cell_id</th>\n",
              "      <th>site_id</th>\n",
              "      <th>VILLES</th>\n",
              "      <th>STATUS</th>\n",
              "      <th>LOCALISATION</th>\n",
              "      <th>DECOUPZONE</th>\n",
              "      <th>ZONENAME</th>\n",
              "      <th>LONGITUDE</th>\n",
              "      <th>LATITUDE</th>\n",
              "      <th>REGION</th>\n",
              "      <th>AREA</th>\n",
              "      <th>CELL_ID</th>\n",
              "      <th>SITE_CODE</th>\n",
              "    </tr>\n",
              "  </thead>\n",
              "  <tbody>\n",
              "    <tr>\n",
              "      <th>589</th>\n",
              "      <td>Voice</td>\n",
              "      <td>7</td>\n",
              "      <td>2012-05-08 00:01:51.0</td>\n",
              "      <td>57d19f92951d1bf</td>\n",
              "      <td>995cfb0ca3176c0</td>\n",
              "      <td>278f971e13</td>\n",
              "      <td>2443d87035</td>\n",
              "      <td>KORHOGO</td>\n",
              "      <td>In Service</td>\n",
              "      <td>INTERIEUR</td>\n",
              "      <td>Grand-NORD</td>\n",
              "      <td>ZONE A - Grand-NORD</td>\n",
              "      <td>-5.617333</td>\n",
              "      <td>9.443611</td>\n",
              "      <td>SAVANE</td>\n",
              "      <td>CENTRE NORTH</td>\n",
              "      <td>fb63d19299</td>\n",
              "      <td>2443d87035</td>\n",
              "    </tr>\n",
              "    <tr>\n",
              "      <th>33697</th>\n",
              "      <td>sms</td>\n",
              "      <td>0</td>\n",
              "      <td>2012-05-08 00:01:42.0</td>\n",
              "      <td>895b66cf8427b36</td>\n",
              "      <td>00b4cd1398c9cb6</td>\n",
              "      <td>10ae6c0752</td>\n",
              "      <td>0f34c36ac5</td>\n",
              "      <td>ABOBO</td>\n",
              "      <td>In Service</td>\n",
              "      <td>ABIDJAN</td>\n",
              "      <td>Abidjan_NORD</td>\n",
              "      <td>ZONE E - Abidjan_NORD</td>\n",
              "      <td>-4.014139</td>\n",
              "      <td>5.433500</td>\n",
              "      <td>LAGUNE</td>\n",
              "      <td>ABIDJAN NORTH</td>\n",
              "      <td>e460975c9f</td>\n",
              "      <td>0f34c36ac5</td>\n",
              "    </tr>\n",
              "    <tr>\n",
              "      <th>45702</th>\n",
              "      <td>sms</td>\n",
              "      <td>0</td>\n",
              "      <td>2012-05-07 00:01:22.0</td>\n",
              "      <td>8add540569bdb41</td>\n",
              "      <td>e09e736e46c5c3d</td>\n",
              "      <td>01675c15d3</td>\n",
              "      <td>0fd78ac3d4</td>\n",
              "      <td>RAPIDES GRAH</td>\n",
              "      <td>In Service</td>\n",
              "      <td>INTERIEUR</td>\n",
              "      <td>SUD-OUEST</td>\n",
              "      <td>ZONE E - SUD-OUEST</td>\n",
              "      <td>-6.644050</td>\n",
              "      <td>5.106522</td>\n",
              "      <td>BAS SASSANDRA</td>\n",
              "      <td>SOUTH WEST</td>\n",
              "      <td>6ac0e2d021</td>\n",
              "      <td>0fd78ac3d4</td>\n",
              "    </tr>\n",
              "    <tr>\n",
              "      <th>23237</th>\n",
              "      <td>sms</td>\n",
              "      <td>0</td>\n",
              "      <td>2012-05-07 00:00:14.0</td>\n",
              "      <td>cc5f6054c6f0a59</td>\n",
              "      <td>8f693b1d48ffd38</td>\n",
              "      <td>42f7c74041</td>\n",
              "      <td>1ed7b897b7</td>\n",
              "      <td>YOPOUGON</td>\n",
              "      <td>In Service</td>\n",
              "      <td>ABIDJAN</td>\n",
              "      <td>Abidjan_OUEST</td>\n",
              "      <td>ZONE C - Abidjan_OUEST</td>\n",
              "      <td>-4.110833</td>\n",
              "      <td>5.317583</td>\n",
              "      <td>LAGUNE</td>\n",
              "      <td>ABIDJAN NORTH</td>\n",
              "      <td>6ff88de39d</td>\n",
              "      <td>1ed7b897b7</td>\n",
              "    </tr>\n",
              "    <tr>\n",
              "      <th>4925</th>\n",
              "      <td>sms</td>\n",
              "      <td>0</td>\n",
              "      <td>2012-05-07 00:00:20.0</td>\n",
              "      <td>8bab6662bdc4230</td>\n",
              "      <td>f2694312e77de8a</td>\n",
              "      <td>88425d57f4</td>\n",
              "      <td>ebfc58af70</td>\n",
              "      <td>YOPOUGON</td>\n",
              "      <td>In Service</td>\n",
              "      <td>ABIDJAN</td>\n",
              "      <td>Abidjan_OUEST</td>\n",
              "      <td>ZONE C - Abidjan_OUEST</td>\n",
              "      <td>-4.070389</td>\n",
              "      <td>5.367944</td>\n",
              "      <td>LAGUNE</td>\n",
              "      <td>ABIDJAN NORTH</td>\n",
              "      <td>5bd9874193</td>\n",
              "      <td>ebfc58af70</td>\n",
              "    </tr>\n",
              "    <tr>\n",
              "      <th>970</th>\n",
              "      <td>sms</td>\n",
              "      <td>25</td>\n",
              "      <td>2012-05-08 00:00:03.0</td>\n",
              "      <td>81c2631eafbdd19</td>\n",
              "      <td>9952eb3909e21cc</td>\n",
              "      <td>8ffe9d4359</td>\n",
              "      <td>56c70baa97</td>\n",
              "      <td>ISSIA</td>\n",
              "      <td>In Service</td>\n",
              "      <td>INTERIEUR</td>\n",
              "      <td>Grand-OUEST</td>\n",
              "      <td>ZONE D - Grand-OUEST</td>\n",
              "      <td>-6.579083</td>\n",
              "      <td>6.495472</td>\n",
              "      <td>HAUT SASSANDRA</td>\n",
              "      <td>NORTH WEST</td>\n",
              "      <td>485a0f8832</td>\n",
              "      <td>56c70baa97</td>\n",
              "    </tr>\n",
              "    <tr>\n",
              "      <th>683</th>\n",
              "      <td>sms</td>\n",
              "      <td>25</td>\n",
              "      <td>2012-05-09 00:00:09.0</td>\n",
              "      <td>79b8bda047e28c4</td>\n",
              "      <td>0edcfe28c6eea04</td>\n",
              "      <td>116bf9b603</td>\n",
              "      <td>65a987fa51</td>\n",
              "      <td>ABOBO</td>\n",
              "      <td>In Service</td>\n",
              "      <td>ABIDJAN</td>\n",
              "      <td>Abidjan_NORD</td>\n",
              "      <td>ZONE E - Abidjan_NORD</td>\n",
              "      <td>-4.029639</td>\n",
              "      <td>5.440472</td>\n",
              "      <td>LAGUNE</td>\n",
              "      <td>ABIDJAN NORTH</td>\n",
              "      <td>33420c4250</td>\n",
              "      <td>65a987fa51</td>\n",
              "    </tr>\n",
              "    <tr>\n",
              "      <th>2108</th>\n",
              "      <td>sms</td>\n",
              "      <td>0</td>\n",
              "      <td>2012-05-08 00:01:06.0</td>\n",
              "      <td>79dc6b20df03bd2</td>\n",
              "      <td>7eab5416443edd9</td>\n",
              "      <td>0a5355b362</td>\n",
              "      <td>700e13a5cf</td>\n",
              "      <td>ABOBO</td>\n",
              "      <td>In Service</td>\n",
              "      <td>ABIDJAN</td>\n",
              "      <td>Abidjan_NORD</td>\n",
              "      <td>ZONE E - Abidjan_NORD</td>\n",
              "      <td>-4.002250</td>\n",
              "      <td>5.420472</td>\n",
              "      <td>LAGUNE</td>\n",
              "      <td>ABIDJAN NORTH</td>\n",
              "      <td>eecb977fb3</td>\n",
              "      <td>700e13a5cf</td>\n",
              "    </tr>\n",
              "    <tr>\n",
              "      <th>5228</th>\n",
              "      <td>Voice</td>\n",
              "      <td>272</td>\n",
              "      <td>2012-05-09 00:01:40.0</td>\n",
              "      <td>2e707e8e21213b7</td>\n",
              "      <td>5bbb20f1afd1875</td>\n",
              "      <td>6f4d9b77a5</td>\n",
              "      <td>ebfc58af70</td>\n",
              "      <td>YOPOUGON</td>\n",
              "      <td>In Service</td>\n",
              "      <td>ABIDJAN</td>\n",
              "      <td>Abidjan_OUEST</td>\n",
              "      <td>ZONE C - Abidjan_OUEST</td>\n",
              "      <td>-4.070389</td>\n",
              "      <td>5.367944</td>\n",
              "      <td>LAGUNE</td>\n",
              "      <td>ABIDJAN NORTH</td>\n",
              "      <td>a29966872f</td>\n",
              "      <td>ebfc58af70</td>\n",
              "    </tr>\n",
              "    <tr>\n",
              "      <th>39082</th>\n",
              "      <td>Voice</td>\n",
              "      <td>12</td>\n",
              "      <td>2012-05-09 00:01:17.0</td>\n",
              "      <td>0356e304349df43</td>\n",
              "      <td>6955f096986c483</td>\n",
              "      <td>f1b81b6f44</td>\n",
              "      <td>5255819549</td>\n",
              "      <td>LAKOTA</td>\n",
              "      <td>In Service</td>\n",
              "      <td>INTERIEUR</td>\n",
              "      <td>Grand-SUD</td>\n",
              "      <td>ZONE B - Grand-SUD</td>\n",
              "      <td>-5.682861</td>\n",
              "      <td>5.845000</td>\n",
              "      <td>SUD BANDAMA</td>\n",
              "      <td>SOUTH WEST</td>\n",
              "      <td>5d5af84d7e</td>\n",
              "      <td>5255819549</td>\n",
              "    </tr>\n",
              "  </tbody>\n",
              "</table>\n",
              "</div>"
            ],
            "text/plain": [
              "      product  bill  ...     CELL_ID   SITE_CODE\n",
              "589     Voice     7  ...  fb63d19299  2443d87035\n",
              "33697     sms     0  ...  e460975c9f  0f34c36ac5\n",
              "45702     sms     0  ...  6ac0e2d021  0fd78ac3d4\n",
              "23237     sms     0  ...  6ff88de39d  1ed7b897b7\n",
              "4925      sms     0  ...  5bd9874193  ebfc58af70\n",
              "970       sms    25  ...  485a0f8832  56c70baa97\n",
              "683       sms    25  ...  33420c4250  65a987fa51\n",
              "2108      sms     0  ...  eecb977fb3  700e13a5cf\n",
              "5228    Voice   272  ...  a29966872f  ebfc58af70\n",
              "39082   Voice    12  ...  5d5af84d7e  5255819549\n",
              "\n",
              "[10 rows x 18 columns]"
            ]
          },
          "metadata": {
            "tags": []
          },
          "execution_count": 36
        }
      ]
    },
    {
      "cell_type": "code",
      "metadata": {
        "id": "u1_OAnZmedEF",
        "colab_type": "code",
        "colab": {}
      },
      "source": [
        "#drop columns \n",
        "to_drop = ['recipient_anonymized','cell_id','CELL_ID','SITE_CODE']\n",
        "merged_df.drop(to_drop, axis=1, inplace=True)"
      ],
      "execution_count": 37,
      "outputs": []
    },
    {
      "cell_type": "code",
      "metadata": {
        "id": "gLEjiLn2g0N4",
        "colab_type": "code",
        "colab": {
          "base_uri": "https://localhost:8080/",
          "height": 33
        },
        "outputId": "ee251196-e5a0-4159-9365-5e3ab90cca30"
      },
      "source": [
        "merged_df.shape"
      ],
      "execution_count": 38,
      "outputs": [
        {
          "output_type": "execute_result",
          "data": {
            "text/plain": [
              "(49702, 14)"
            ]
          },
          "metadata": {
            "tags": []
          },
          "execution_count": 38
        }
      ]
    },
    {
      "cell_type": "code",
      "metadata": {
        "id": "51x_1ERtg5Ov",
        "colab_type": "code",
        "colab": {
          "base_uri": "https://localhost:8080/",
          "height": 261
        },
        "outputId": "44888497-783e-4c6a-8499-a15d4adc7212"
      },
      "source": [
        "# Check for null values if merged dataframe\n",
        "merged_df.isnull().sum()"
      ],
      "execution_count": 39,
      "outputs": [
        {
          "output_type": "execute_result",
          "data": {
            "text/plain": [
              "product                0\n",
              "bill                   0\n",
              "datetime               0\n",
              "caller_anonymized      0\n",
              "site_id                0\n",
              "VILLES                 0\n",
              "STATUS               677\n",
              "LOCALISATION           0\n",
              "DECOUPZONE             0\n",
              "ZONENAME              18\n",
              "LONGITUDE              0\n",
              "LATITUDE               0\n",
              "REGION                 0\n",
              "AREA                 256\n",
              "dtype: int64"
            ]
          },
          "metadata": {
            "tags": []
          },
          "execution_count": 39
        }
      ]
    },
    {
      "cell_type": "markdown",
      "metadata": {
        "id": "m3ydUdY_mkYN",
        "colab_type": "text"
      },
      "source": [
        "#### Data Exploration"
      ]
    },
    {
      "cell_type": "code",
      "metadata": {
        "id": "ZSa3Dsm8mtJI",
        "colab_type": "code",
        "colab": {
          "base_uri": "https://localhost:8080/",
          "height": 342
        },
        "outputId": "55c50676-8b6a-4f58-a4ef-e4b6914b7f7c"
      },
      "source": [
        "# Which regions have the highest frequency of calls?\n",
        "merged_df['REGION'].value_counts()"
      ],
      "execution_count": 40,
      "outputs": [
        {
          "output_type": "execute_result",
          "data": {
            "text/plain": [
              "LAGUNE               32547\n",
              "LACS                  2408\n",
              "BAS SASSANDRA         2327\n",
              "HAUT SASSANDRA        2277\n",
              "VALLEE DU BANDAMA     1551\n",
              "SUD BANDAMA           1518\n",
              "SAVANE                 980\n",
              "FROMAGER               904\n",
              "WORODOUGOU             792\n",
              "18 MONTAGNES           765\n",
              "MARAHOUE               618\n",
              "AGNEBY                 581\n",
              "NZI COMOE              564\n",
              "MOYEN CAVALLY          528\n",
              "DENGUELE               395\n",
              "ZANZAN                 330\n",
              "MOYEN COMOE            315\n",
              "SUD COMOE              203\n",
              "BAFING                  99\n",
              "Name: REGION, dtype: int64"
            ]
          },
          "metadata": {
            "tags": []
          },
          "execution_count": 40
        }
      ]
    },
    {
      "cell_type": "markdown",
      "metadata": {
        "id": "_d0IGRSW4_vE",
        "colab_type": "text"
      },
      "source": [
        "The following regions have the highest traffic:\n",
        "- LAGUNE :              32547\n",
        "- LACS    :              2408\n",
        "- BAS SASSANDRA :         2327\n",
        "- HAUT SASSANDRA  :      2277\n",
        "- VALLEE DU BANDAMA  :   1551\n",
        "- SUD BANDAMA :           1518"
      ]
    },
    {
      "cell_type": "code",
      "metadata": {
        "id": "yfprBlKNhhz7",
        "colab_type": "code",
        "colab": {
          "base_uri": "https://localhost:8080/",
          "height": 608
        },
        "outputId": "e16dcfc6-706c-41f9-e5db-98f3ff01fe64"
      },
      "source": [
        "merged_df['REGION'].value_counts().plot(kind='barh', figsize=(10,10))"
      ],
      "execution_count": 41,
      "outputs": [
        {
          "output_type": "execute_result",
          "data": {
            "text/plain": [
              "<matplotlib.axes._subplots.AxesSubplot at 0x7f2f5c22c400>"
            ]
          },
          "metadata": {
            "tags": []
          },
          "execution_count": 41
        },
        {
          "output_type": "display_data",
          "data": {
            "image/png": "[encoded data removed]",
            "text/plain": [
              "<Figure size 720x720 with 1 Axes>"
            ]
          },
          "metadata": {
            "tags": [],
            "needs_background": "light"
          }
        }
      ]
    },
    {
      "cell_type": "markdown",
      "metadata": {
        "id": "rmgw8-mvplqu",
        "colab_type": "text"
      },
      "source": [
        "Lagune region has the largest percentage in frequency of usage of MTN network"
      ]
    },
    {
      "cell_type": "code",
      "metadata": {
        "id": "iOEWFrW_1jFD",
        "colab_type": "code",
        "colab": {
          "base_uri": "https://localhost:8080/",
          "height": 505
        },
        "outputId": "ec1c61d7-ec1d-4a06-83cd-a548c7d9c80d"
      },
      "source": [
        "merged_df['ZONENAME'].value_counts()"
      ],
      "execution_count": 42,
      "outputs": [
        {
          "output_type": "execute_result",
          "data": {
            "text/plain": [
              "ZONE C - Abidjan_OUEST     10296\n",
              "ZONE E - Abidjan_NORD       6660\n",
              "ZONE B - Grand-SUD          5545\n",
              "ZONE B - Abidjan_EST        4838\n",
              "ZONE D - Abidjan_SUD        4642\n",
              "ZONE D - Grand-OUEST        4314\n",
              "ZONE A - Abidjan_CENTRE     4132\n",
              "ZONE A - Grand-NORD         3928\n",
              "ZONE E - SUD-OUEST          2993\n",
              "ZONE C - Grand-EST          1748\n",
              "ZONE D - Abidjan_EST         186\n",
              "OKAHOTEL                     120\n",
              "NPONON                        72\n",
              "WILLIAMSVILLE2                40\n",
              "ZONE C - Abidjan_EST          27\n",
              "ZONE A - Abidjan_OUEST        21\n",
              "PALMABINGERVILLE              21\n",
              "ZONE A - Grand-SUD            18\n",
              "ZONE B - Grand-EST            18\n",
              "ZONE B - Abidjan_OUEST        18\n",
              "ZONE C - Abidjan_SUD          15\n",
              "ZONE D - Grand-SUD             6\n",
              "ZONE B - Abidjan_SUD           6\n",
              "ZONE A - Grand-EST             6\n",
              "ZONE B - Grand-NORD            3\n",
              "ZONE B - Abidjan_Nord          3\n",
              "AGBANNEW                       3\n",
              "ZONE B - Abidjan-EST           3\n",
              "ZONE B - Abidjan_CENTRE        2\n",
              "Name: ZONENAME, dtype: int64"
            ]
          },
          "metadata": {
            "tags": []
          },
          "execution_count": 42
        }
      ]
    },
    {
      "cell_type": "markdown",
      "metadata": {
        "id": "rHm_9hQ52DO1",
        "colab_type": "text"
      },
      "source": [
        "The following zones have the highest traffic:\n",
        "- ZONE C - Abidjan_OUEST :    10296\n",
        "- ZONE E - Abidjan_NORD   :    6660\n",
        "- ZONE B - Grand-SUD       :   5545\n",
        "- ZONE B - Abidjan_EST      :  4838\n",
        "- ZONE D - Abidjan_SUD       : 4642\n",
        "- ZONE D - Grand-OUEST   :     4314\n",
        "- ZONE A - Abidjan_CENTRE :    4132\n",
        "- ZONE A - Grand-NORD      :   3928\n",
        "- ZONE E - SUD-OUEST        :  2993\n",
        "- ZONE C - Grand-EST         : 1748\n",
        "\n"
      ]
    },
    {
      "cell_type": "markdown",
      "metadata": {
        "id": "-A8VsoMj5n_5",
        "colab_type": "text"
      },
      "source": [
        "#### Explore cities per region and per zone"
      ]
    },
    {
      "cell_type": "code",
      "metadata": {
        "id": "SMWBu8u05zYD",
        "colab_type": "code",
        "colab": {}
      },
      "source": [
        "high_traffic_zones = ['ZONE C - Abidjan_OUEST','ZONE E - Abidjan_NORD','ZONE B - Grand-SUD','ZONE B - Abidjan_EST',\n",
        "                      'ZONE D - Abidjan_SUD','ZONE D - Grand-OUEST','ZONE A - Abidjan_CENTRE','ZONE A - Grand-NORD',\n",
        "                      'ZONE E - SUD-OUEST','ZONE C - Grand-EST']"
      ],
      "execution_count": 43,
      "outputs": []
    },
    {
      "cell_type": "code",
      "metadata": {
        "id": "gZgnJ80v5zNM",
        "colab_type": "code",
        "colab": {}
      },
      "source": [
        "zones_df = merged_df[merged_df['ZONENAME'].isin(high_traffic_zones)]"
      ],
      "execution_count": 44,
      "outputs": []
    },
    {
      "cell_type": "code",
      "metadata": {
        "id": "P-fFxEs25zK9",
        "colab_type": "code",
        "colab": {
          "base_uri": "https://localhost:8080/",
          "height": 33
        },
        "outputId": "525d7c9b-0e14-4b1b-b553-3277df849c1a"
      },
      "source": [
        "zones_df.shape"
      ],
      "execution_count": 45,
      "outputs": [
        {
          "output_type": "execute_result",
          "data": {
            "text/plain": [
              "(49096, 14)"
            ]
          },
          "metadata": {
            "tags": []
          },
          "execution_count": 45
        }
      ]
    },
    {
      "cell_type": "code",
      "metadata": {
        "id": "CxsU3WjU5zBS",
        "colab_type": "code",
        "colab": {
          "base_uri": "https://localhost:8080/",
          "height": 310
        },
        "outputId": "8fe1a176-775d-4889-a586-7d550af44952"
      },
      "source": [
        "# Determine cities in high traffic zones with traffic greater than 500\n",
        "cities = zones_df['VILLES'].value_counts()\n",
        "high_traffic_cities = cities[cities > 500]\n",
        "high_traffic_cities"
      ],
      "execution_count": 46,
      "outputs": [
        {
          "output_type": "execute_result",
          "data": {
            "text/plain": [
              "YOPOUGON        8432\n",
              "ABOBO           5967\n",
              "COCODY          3698\n",
              "ADJAME          2442\n",
              "KOUMASSI        2275\n",
              "YAMOUSSOUKRO    2076\n",
              "TREICHVILLE     2026\n",
              "MARCORY         1901\n",
              "DALOA           1747\n",
              "ATTECOUBE       1607\n",
              "PORT-BOUET      1423\n",
              "SAN-PEDRO       1291\n",
              "BOUAKE          1242\n",
              "DIVO             969\n",
              "GAGNOA           648\n",
              "MAN              567\n",
              "SOUBRE           537\n",
              "Name: VILLES, dtype: int64"
            ]
          },
          "metadata": {
            "tags": []
          },
          "execution_count": 46
        }
      ]
    },
    {
      "cell_type": "code",
      "metadata": {
        "id": "spDEDzBo5y3h",
        "colab_type": "code",
        "colab": {}
      },
      "source": [
        "high_traffic_regions = ['LAGUNE','LACS','BAS SASSANDRA','HAUT SASSANDRA','VALLEE DU BANDAMA','SUD BANDAMA']"
      ],
      "execution_count": 47,
      "outputs": []
    },
    {
      "cell_type": "code",
      "metadata": {
        "id": "Gcfek--RDTOS",
        "colab_type": "code",
        "colab": {}
      },
      "source": [
        "region_df = merged_df[merged_df['REGION'].isin(high_traffic_regions)]"
      ],
      "execution_count": 48,
      "outputs": []
    },
    {
      "cell_type": "code",
      "metadata": {
        "id": "Pai7Ad0yDmPq",
        "colab_type": "code",
        "colab": {
          "base_uri": "https://localhost:8080/",
          "height": 33
        },
        "outputId": "f68597da-586f-4b52-c7c1-dad31105cc96"
      },
      "source": [
        "region_df.shape"
      ],
      "execution_count": 49,
      "outputs": [
        {
          "output_type": "execute_result",
          "data": {
            "text/plain": [
              "(42628, 14)"
            ]
          },
          "metadata": {
            "tags": []
          },
          "execution_count": 49
        }
      ]
    },
    {
      "cell_type": "code",
      "metadata": {
        "id": "f7bRA51bDmyp",
        "colab_type": "code",
        "colab": {}
      },
      "source": [
        "cities_regions = region_df['VILLES'].value_counts()"
      ],
      "execution_count": 50,
      "outputs": []
    },
    {
      "cell_type": "code",
      "metadata": {
        "id": "MC_PQvYYDnFE",
        "colab_type": "code",
        "colab": {}
      },
      "source": [
        "#Determine cities with traffic greater than 500 based on region grouping\n",
        "high_cities_regions = cities_regions[cities_regions > 500]"
      ],
      "execution_count": 51,
      "outputs": []
    },
    {
      "cell_type": "code",
      "metadata": {
        "id": "v1uaQZMbqaM2",
        "colab_type": "code",
        "colab": {}
      },
      "source": [
        "# Extract cities that occur in both series\n",
        "high_impact_cities = high_cities_regions | high_cities_regions"
      ],
      "execution_count": 52,
      "outputs": []
    },
    {
      "cell_type": "code",
      "metadata": {
        "id": "arsKR-ViEpsw",
        "colab_type": "code",
        "colab": {
          "base_uri": "https://localhost:8080/",
          "height": 606
        },
        "outputId": "49939b3a-89f3-47b3-82f2-71b2c858a445"
      },
      "source": [
        "\n",
        "cities = plt.figure(figsize=(10,10))\n",
        "sns.barplot(x = high_impact_cities, y = high_impact_cities.index)\n",
        "plt.savefig('cities.png')\n",
        "files.download('cities.png')"
      ],
      "execution_count": 86,
      "outputs": [
        {
          "output_type": "display_data",
          "data": {
            "application/javascript": [
              "\n",
              "    async function download(id, filename, size) {\n",
              "      if (!google.colab.kernel.accessAllowed) {\n",
              "        return;\n",
              "      }\n",
              "      const div = document.createElement('div');\n",
              "      const label = document.createElement('label');\n",
              "      label.textContent = `Downloading \"${filename}\": `;\n",
              "      div.appendChild(label);\n",
              "      const progress = document.createElement('progress');\n",
              "      progress.max = size;\n",
              "      div.appendChild(progress);\n",
              "      document.body.appendChild(div);\n",
              "\n",
              "      const buffers = [];\n",
              "      let downloaded = 0;\n",
              "\n",
              "      const channel = await google.colab.kernel.comms.open(id);\n",
              "      // Send a message to notify the kernel that we're ready.\n",
              "      channel.send({})\n",
              "\n",
              "      for await (const message of channel.messages) {\n",
              "        // Send a message to notify the kernel that we're ready.\n",
              "        channel.send({})\n",
              "        if (message.buffers) {\n",
              "          for (const buffer of message.buffers) {\n",
              "            buffers.push(buffer);\n",
              "            downloaded += buffer.byteLength;\n",
              "            progress.value = downloaded;\n",
              "          }\n",
              "        }\n",
              "      }\n",
              "      const blob = new Blob(buffers, {type: 'application/binary'});\n",
              "      const a = document.createElement('a');\n",
              "      a.href = window.URL.createObjectURL(blob);\n",
              "      a.download = filename;\n",
              "      div.appendChild(a);\n",
              "      a.click();\n",
              "      div.remove();\n",
              "    }\n",
              "  "
            ],
            "text/plain": [
              "<IPython.core.display.Javascript object>"
            ]
          },
          "metadata": {
            "tags": []
          }
        },
        {
          "output_type": "display_data",
          "data": {
            "application/javascript": [
              "download(\"download_23a74eb4-5779-48d9-ab79-babe46f049b7\", \"cities.png\", 21668)"
            ],
            "text/plain": [
              "<IPython.core.display.Javascript object>"
            ]
          },
          "metadata": {
            "tags": []
          }
        },
        {
          "output_type": "display_data",
          "data": {
            "image/png": "[encoded data removed]",
            "text/plain": [
              "<Figure size 720x720 with 1 Axes>"
            ]
          },
          "metadata": {
            "tags": [],
            "needs_background": "light"
          }
        }
      ]
    },
    {
      "cell_type": "markdown",
      "metadata": {
        "id": "lxnoeiDJJjxA",
        "colab_type": "text"
      },
      "source": [
        "After identifying cities with the highest traffic, identify which product is the most frequently used in these cities"
      ]
    },
    {
      "cell_type": "code",
      "metadata": {
        "id": "pheF3gnoEp-V",
        "colab_type": "code",
        "colab": {}
      },
      "source": [
        "cities_df = merged_df[merged_df['VILLES'].isin(high_impact_cities.index)]"
      ],
      "execution_count": 54,
      "outputs": []
    },
    {
      "cell_type": "code",
      "metadata": {
        "id": "HComdc7_EqQD",
        "colab_type": "code",
        "colab": {
          "base_uri": "https://localhost:8080/",
          "height": 33
        },
        "outputId": "a518844b-f8df-4926-d9e8-52b7f65bb243"
      },
      "source": [
        "cities_df.shape"
      ],
      "execution_count": 55,
      "outputs": [
        {
          "output_type": "execute_result",
          "data": {
            "text/plain": [
              "(38107, 14)"
            ]
          },
          "metadata": {
            "tags": []
          },
          "execution_count": 55
        }
      ]
    },
    {
      "cell_type": "markdown",
      "metadata": {
        "id": "4IICqb9EagdL",
        "colab_type": "text"
      },
      "source": [
        "#### Explore product usage in high traffic cities"
      ]
    },
    {
      "cell_type": "code",
      "metadata": {
        "id": "zbVv9Ic7EqOI",
        "colab_type": "code",
        "colab": {
          "base_uri": "https://localhost:8080/",
          "height": 497
        },
        "outputId": "b03ec953-7600-4950-e0a4-054ffebd6fe1"
      },
      "source": [
        "product_usage = plt.figure(figsize=(8,8))\n",
        "usage = cities_df['product'].value_counts()\n",
        "sns.barplot(x= usage, y=usage.index)\n",
        "plt.xlabel('Product Usage')\n",
        "plt.savefig('usage.png')\n",
        "files.download('usage.png')"
      ],
      "execution_count": 91,
      "outputs": [
        {
          "output_type": "display_data",
          "data": {
            "application/javascript": [
              "\n",
              "    async function download(id, filename, size) {\n",
              "      if (!google.colab.kernel.accessAllowed) {\n",
              "        return;\n",
              "      }\n",
              "      const div = document.createElement('div');\n",
              "      const label = document.createElement('label');\n",
              "      label.textContent = `Downloading \"${filename}\": `;\n",
              "      div.appendChild(label);\n",
              "      const progress = document.createElement('progress');\n",
              "      progress.max = size;\n",
              "      div.appendChild(progress);\n",
              "      document.body.appendChild(div);\n",
              "\n",
              "      const buffers = [];\n",
              "      let downloaded = 0;\n",
              "\n",
              "      const channel = await google.colab.kernel.comms.open(id);\n",
              "      // Send a message to notify the kernel that we're ready.\n",
              "      channel.send({})\n",
              "\n",
              "      for await (const message of channel.messages) {\n",
              "        // Send a message to notify the kernel that we're ready.\n",
              "        channel.send({})\n",
              "        if (message.buffers) {\n",
              "          for (const buffer of message.buffers) {\n",
              "            buffers.push(buffer);\n",
              "            downloaded += buffer.byteLength;\n",
              "            progress.value = downloaded;\n",
              "          }\n",
              "        }\n",
              "      }\n",
              "      const blob = new Blob(buffers, {type: 'application/binary'});\n",
              "      const a = document.createElement('a');\n",
              "      a.href = window.URL.createObjectURL(blob);\n",
              "      a.download = filename;\n",
              "      div.appendChild(a);\n",
              "      a.click();\n",
              "      div.remove();\n",
              "    }\n",
              "  "
            ],
            "text/plain": [
              "<IPython.core.display.Javascript object>"
            ]
          },
          "metadata": {
            "tags": []
          }
        },
        {
          "output_type": "display_data",
          "data": {
            "application/javascript": [
              "download(\"download_8dd88b38-5f53-4499-a7a7-94ca887ec4f5\", \"usage.png\", 7007)"
            ],
            "text/plain": [
              "<IPython.core.display.Javascript object>"
            ]
          },
          "metadata": {
            "tags": []
          }
        },
        {
          "output_type": "display_data",
          "data": {
            "image/png": "[encoded data removed]",
            "text/plain": [
              "<Figure size 576x576 with 1 Axes>"
            ]
          },
          "metadata": {
            "tags": [],
            "needs_background": "light"
          }
        }
      ]
    },
    {
      "cell_type": "markdown",
      "metadata": {
        "id": "6BAeGAg_MtfD",
        "colab_type": "text"
      },
      "source": [
        "SMS services are more frequently used"
      ]
    },
    {
      "cell_type": "code",
      "metadata": {
        "id": "TvbFNJGglCZi",
        "colab_type": "code",
        "colab": {
          "base_uri": "https://localhost:8080/",
          "height": 66
        },
        "outputId": "c5dd15f6-951d-499d-8fea-5b798b219c68"
      },
      "source": [
        "services = cities_df['product'].value_counts(normalize=True)\n",
        "services"
      ],
      "execution_count": 77,
      "outputs": [
        {
          "output_type": "execute_result",
          "data": {
            "text/plain": [
              "sms      0.61448\n",
              "Voice    0.38552\n",
              "Name: product, dtype: float64"
            ]
          },
          "metadata": {
            "tags": []
          },
          "execution_count": 77
        }
      ]
    },
    {
      "cell_type": "code",
      "metadata": {
        "id": "3yh1C2cHi5ll",
        "colab_type": "code",
        "colab": {
          "base_uri": "https://localhost:8080/",
          "height": 82
        },
        "outputId": "7e1883ed-6cc4-4622-b85a-ffbb0b1bcaec"
      },
      "source": [
        "#Which product brings in more money?\n",
        "profits = cities_df.groupby(['product'])['bill'].sum()\n",
        "(profits / profits.sum())*100"
      ],
      "execution_count": 75,
      "outputs": [
        {
          "output_type": "execute_result",
          "data": {
            "text/plain": [
              "product\n",
              "Voice    81.231998\n",
              "sms      18.768002\n",
              "Name: bill, dtype: float64"
            ]
          },
          "metadata": {
            "tags": []
          },
          "execution_count": 75
        }
      ]
    },
    {
      "cell_type": "code",
      "metadata": {
        "id": "CynIHaxunSnr",
        "colab_type": "code",
        "colab": {
          "base_uri": "https://localhost:8080/",
          "height": 293
        },
        "outputId": "91bc5100-51de-4daa-b3d4-f0cc5665cef7"
      },
      "source": [
        "cities_df.groupby(['VILLES'])['bill'].sum().sort_values(ascending=False)"
      ],
      "execution_count": 79,
      "outputs": [
        {
          "output_type": "execute_result",
          "data": {
            "text/plain": [
              "VILLES\n",
              "YOPOUGON        202167\n",
              "COCODY          177745\n",
              "ABOBO           124210\n",
              "KOUMASSI         71356\n",
              "TREICHVILLE      65557\n",
              "MARCORY          59913\n",
              "ADJAME           59455\n",
              "YAMOUSSOUKRO     45090\n",
              "SAN-PEDRO        44137\n",
              "PORT-BOUET       35786\n",
              "DALOA            34704\n",
              "BOUAKE           33039\n",
              "DIVO             23676\n",
              "ATTECOUBE        19116\n",
              "SOUBRE            7736\n",
              "Name: bill, dtype: int64"
            ]
          },
          "metadata": {
            "tags": []
          },
          "execution_count": 79
        }
      ]
    },
    {
      "cell_type": "code",
      "metadata": {
        "id": "7KqEyEhfEqId",
        "colab_type": "code",
        "colab": {
          "base_uri": "https://localhost:8080/",
          "height": 498
        },
        "outputId": "a9917cf8-267a-4502-b9cd-116442b94a4c"
      },
      "source": [
        "# Which city brings in more money?\n",
        "cities_df.groupby(['VILLES'])['bill'].sum().sort_values(ascending=True).plot(kind='barh', figsize=(8,8))"
      ],
      "execution_count": 57,
      "outputs": [
        {
          "output_type": "execute_result",
          "data": {
            "text/plain": [
              "<matplotlib.axes._subplots.AxesSubplot at 0x7f2f5c0e9c18>"
            ]
          },
          "metadata": {
            "tags": []
          },
          "execution_count": 57
        },
        {
          "output_type": "display_data",
          "data": {
            "image/png": "[encoded data removed]",
            "text/plain": [
              "<Figure size 576x576 with 1 Axes>"
            ]
          },
          "metadata": {
            "tags": [],
            "needs_background": "light"
          }
        }
      ]
    },
    {
      "cell_type": "code",
      "metadata": {
        "id": "SffJtwPuEqF6",
        "colab_type": "code",
        "colab": {}
      },
      "source": [
        "# Which city brings in more money per product?\n",
        "product_bills = cities_df.groupby(['VILLES','product'])['bill'].sum().reset_index()"
      ],
      "execution_count": 58,
      "outputs": []
    },
    {
      "cell_type": "code",
      "metadata": {
        "id": "PdswWzAdP8RB",
        "colab_type": "code",
        "colab": {
          "base_uri": "https://localhost:8080/",
          "height": 910
        },
        "outputId": "0e0c7cc6-948a-4a35-c45c-9af0f6c96fcf"
      },
      "source": [
        "product_bills"
      ],
      "execution_count": 59,
      "outputs": [
        {
          "output_type": "execute_result",
          "data": {
            "text/html": [
              "<div>\n",
              "<style scoped>\n",
              "    .dataframe tbody tr th:only-of-type {\n",
              "        vertical-align: middle;\n",
              "    }\n",
              "\n",
              "    .dataframe tbody tr th {\n",
              "        vertical-align: top;\n",
              "    }\n",
              "\n",
              "    .dataframe thead th {\n",
              "        text-align: right;\n",
              "    }\n",
              "</style>\n",
              "<table border=\"1\" class=\"dataframe\">\n",
              "  <thead>\n",
              "    <tr style=\"text-align: right;\">\n",
              "      <th></th>\n",
              "      <th>VILLES</th>\n",
              "      <th>product</th>\n",
              "      <th>bill</th>\n",
              "    </tr>\n",
              "  </thead>\n",
              "  <tbody>\n",
              "    <tr>\n",
              "      <th>0</th>\n",
              "      <td>ABOBO</td>\n",
              "      <td>Voice</td>\n",
              "      <td>95781</td>\n",
              "    </tr>\n",
              "    <tr>\n",
              "      <th>1</th>\n",
              "      <td>ABOBO</td>\n",
              "      <td>sms</td>\n",
              "      <td>28429</td>\n",
              "    </tr>\n",
              "    <tr>\n",
              "      <th>2</th>\n",
              "      <td>ADJAME</td>\n",
              "      <td>Voice</td>\n",
              "      <td>45925</td>\n",
              "    </tr>\n",
              "    <tr>\n",
              "      <th>3</th>\n",
              "      <td>ADJAME</td>\n",
              "      <td>sms</td>\n",
              "      <td>13530</td>\n",
              "    </tr>\n",
              "    <tr>\n",
              "      <th>4</th>\n",
              "      <td>ATTECOUBE</td>\n",
              "      <td>Voice</td>\n",
              "      <td>14266</td>\n",
              "    </tr>\n",
              "    <tr>\n",
              "      <th>5</th>\n",
              "      <td>ATTECOUBE</td>\n",
              "      <td>sms</td>\n",
              "      <td>4850</td>\n",
              "    </tr>\n",
              "    <tr>\n",
              "      <th>6</th>\n",
              "      <td>BOUAKE</td>\n",
              "      <td>Voice</td>\n",
              "      <td>28302</td>\n",
              "    </tr>\n",
              "    <tr>\n",
              "      <th>7</th>\n",
              "      <td>BOUAKE</td>\n",
              "      <td>sms</td>\n",
              "      <td>4737</td>\n",
              "    </tr>\n",
              "    <tr>\n",
              "      <th>8</th>\n",
              "      <td>COCODY</td>\n",
              "      <td>Voice</td>\n",
              "      <td>157920</td>\n",
              "    </tr>\n",
              "    <tr>\n",
              "      <th>9</th>\n",
              "      <td>COCODY</td>\n",
              "      <td>sms</td>\n",
              "      <td>19825</td>\n",
              "    </tr>\n",
              "    <tr>\n",
              "      <th>10</th>\n",
              "      <td>DALOA</td>\n",
              "      <td>Voice</td>\n",
              "      <td>26044</td>\n",
              "    </tr>\n",
              "    <tr>\n",
              "      <th>11</th>\n",
              "      <td>DALOA</td>\n",
              "      <td>sms</td>\n",
              "      <td>8660</td>\n",
              "    </tr>\n",
              "    <tr>\n",
              "      <th>12</th>\n",
              "      <td>DIVO</td>\n",
              "      <td>Voice</td>\n",
              "      <td>16701</td>\n",
              "    </tr>\n",
              "    <tr>\n",
              "      <th>13</th>\n",
              "      <td>DIVO</td>\n",
              "      <td>sms</td>\n",
              "      <td>6975</td>\n",
              "    </tr>\n",
              "    <tr>\n",
              "      <th>14</th>\n",
              "      <td>KOUMASSI</td>\n",
              "      <td>Voice</td>\n",
              "      <td>55781</td>\n",
              "    </tr>\n",
              "    <tr>\n",
              "      <th>15</th>\n",
              "      <td>KOUMASSI</td>\n",
              "      <td>sms</td>\n",
              "      <td>15575</td>\n",
              "    </tr>\n",
              "    <tr>\n",
              "      <th>16</th>\n",
              "      <td>MARCORY</td>\n",
              "      <td>Voice</td>\n",
              "      <td>49085</td>\n",
              "    </tr>\n",
              "    <tr>\n",
              "      <th>17</th>\n",
              "      <td>MARCORY</td>\n",
              "      <td>sms</td>\n",
              "      <td>10828</td>\n",
              "    </tr>\n",
              "    <tr>\n",
              "      <th>18</th>\n",
              "      <td>PORT-BOUET</td>\n",
              "      <td>Voice</td>\n",
              "      <td>27907</td>\n",
              "    </tr>\n",
              "    <tr>\n",
              "      <th>19</th>\n",
              "      <td>PORT-BOUET</td>\n",
              "      <td>sms</td>\n",
              "      <td>7879</td>\n",
              "    </tr>\n",
              "    <tr>\n",
              "      <th>20</th>\n",
              "      <td>SAN-PEDRO</td>\n",
              "      <td>Voice</td>\n",
              "      <td>39606</td>\n",
              "    </tr>\n",
              "    <tr>\n",
              "      <th>21</th>\n",
              "      <td>SAN-PEDRO</td>\n",
              "      <td>sms</td>\n",
              "      <td>4531</td>\n",
              "    </tr>\n",
              "    <tr>\n",
              "      <th>22</th>\n",
              "      <td>SOUBRE</td>\n",
              "      <td>Voice</td>\n",
              "      <td>6561</td>\n",
              "    </tr>\n",
              "    <tr>\n",
              "      <th>23</th>\n",
              "      <td>SOUBRE</td>\n",
              "      <td>sms</td>\n",
              "      <td>1175</td>\n",
              "    </tr>\n",
              "    <tr>\n",
              "      <th>24</th>\n",
              "      <td>TREICHVILLE</td>\n",
              "      <td>Voice</td>\n",
              "      <td>58932</td>\n",
              "    </tr>\n",
              "    <tr>\n",
              "      <th>25</th>\n",
              "      <td>TREICHVILLE</td>\n",
              "      <td>sms</td>\n",
              "      <td>6625</td>\n",
              "    </tr>\n",
              "    <tr>\n",
              "      <th>26</th>\n",
              "      <td>YAMOUSSOUKRO</td>\n",
              "      <td>Voice</td>\n",
              "      <td>37590</td>\n",
              "    </tr>\n",
              "    <tr>\n",
              "      <th>27</th>\n",
              "      <td>YAMOUSSOUKRO</td>\n",
              "      <td>sms</td>\n",
              "      <td>7500</td>\n",
              "    </tr>\n",
              "    <tr>\n",
              "      <th>28</th>\n",
              "      <td>YOPOUGON</td>\n",
              "      <td>Voice</td>\n",
              "      <td>154914</td>\n",
              "    </tr>\n",
              "    <tr>\n",
              "      <th>29</th>\n",
              "      <td>YOPOUGON</td>\n",
              "      <td>sms</td>\n",
              "      <td>47253</td>\n",
              "    </tr>\n",
              "  </tbody>\n",
              "</table>\n",
              "</div>"
            ],
            "text/plain": [
              "          VILLES product    bill\n",
              "0          ABOBO   Voice   95781\n",
              "1          ABOBO     sms   28429\n",
              "2         ADJAME   Voice   45925\n",
              "3         ADJAME     sms   13530\n",
              "4      ATTECOUBE   Voice   14266\n",
              "5      ATTECOUBE     sms    4850\n",
              "6         BOUAKE   Voice   28302\n",
              "7         BOUAKE     sms    4737\n",
              "8         COCODY   Voice  157920\n",
              "9         COCODY     sms   19825\n",
              "10         DALOA   Voice   26044\n",
              "11         DALOA     sms    8660\n",
              "12          DIVO   Voice   16701\n",
              "13          DIVO     sms    6975\n",
              "14      KOUMASSI   Voice   55781\n",
              "15      KOUMASSI     sms   15575\n",
              "16       MARCORY   Voice   49085\n",
              "17       MARCORY     sms   10828\n",
              "18    PORT-BOUET   Voice   27907\n",
              "19    PORT-BOUET     sms    7879\n",
              "20     SAN-PEDRO   Voice   39606\n",
              "21     SAN-PEDRO     sms    4531\n",
              "22        SOUBRE   Voice    6561\n",
              "23        SOUBRE     sms    1175\n",
              "24   TREICHVILLE   Voice   58932\n",
              "25   TREICHVILLE     sms    6625\n",
              "26  YAMOUSSOUKRO   Voice   37590\n",
              "27  YAMOUSSOUKRO     sms    7500\n",
              "28      YOPOUGON   Voice  154914\n",
              "29      YOPOUGON     sms   47253"
            ]
          },
          "metadata": {
            "tags": []
          },
          "execution_count": 59
        }
      ]
    },
    {
      "cell_type": "code",
      "metadata": {
        "id": "muDJZk2HEp8T",
        "colab_type": "code",
        "colab": {
          "base_uri": "https://localhost:8080/",
          "height": 601
        },
        "outputId": "e8a8633d-b8f4-4e05-da7a-8a534f937ee3"
      },
      "source": [
        "sns.catplot(x='bill', y='VILLES', hue='product', data=product_bills, kind='bar', height=8, aspect=15/8)"
      ],
      "execution_count": 60,
      "outputs": [
        {
          "output_type": "execute_result",
          "data": {
            "text/plain": [
              "<seaborn.axisgrid.FacetGrid at 0x7f2f5c166320>"
            ]
          },
          "metadata": {
            "tags": []
          },
          "execution_count": 60
        },
        {
          "output_type": "display_data",
          "data": {
            "image/png": "[encoded data removed]",
            "text/plain": [
              "<Figure size 1142.62x576 with 1 Axes>"
            ]
          },
          "metadata": {
            "tags": [],
            "needs_background": "light"
          }
        }
      ]
    },
    {
      "cell_type": "code",
      "metadata": {
        "id": "APZ3UmEIEp5N",
        "colab_type": "code",
        "colab": {}
      },
      "source": [
        "# Order cities by highest return in voice and sms products\n",
        "table = pd.pivot_table(cities_df, values='bill', index=['product','VILLES'],aggfunc=np.sum)"
      ],
      "execution_count": 61,
      "outputs": []
    },
    {
      "cell_type": "code",
      "metadata": {
        "id": "g3wooB9uEp2Z",
        "colab_type": "code",
        "colab": {
          "base_uri": "https://localhost:8080/",
          "height": 938
        },
        "outputId": "0e948f35-9fcf-4bc3-b52d-ff8cbeca577e"
      },
      "source": [
        "table.groupby(\n",
        "    level='product', group_keys=False\n",
        ").apply(pd.DataFrame.sort_values, by='bill', ascending=False)"
      ],
      "execution_count": 62,
      "outputs": [
        {
          "output_type": "execute_result",
          "data": {
            "text/html": [
              "<div>\n",
              "<style scoped>\n",
              "    .dataframe tbody tr th:only-of-type {\n",
              "        vertical-align: middle;\n",
              "    }\n",
              "\n",
              "    .dataframe tbody tr th {\n",
              "        vertical-align: top;\n",
              "    }\n",
              "\n",
              "    .dataframe thead th {\n",
              "        text-align: right;\n",
              "    }\n",
              "</style>\n",
              "<table border=\"1\" class=\"dataframe\">\n",
              "  <thead>\n",
              "    <tr style=\"text-align: right;\">\n",
              "      <th></th>\n",
              "      <th></th>\n",
              "      <th>bill</th>\n",
              "    </tr>\n",
              "    <tr>\n",
              "      <th>product</th>\n",
              "      <th>VILLES</th>\n",
              "      <th></th>\n",
              "    </tr>\n",
              "  </thead>\n",
              "  <tbody>\n",
              "    <tr>\n",
              "      <th rowspan=\"15\" valign=\"top\">Voice</th>\n",
              "      <th>COCODY</th>\n",
              "      <td>157920</td>\n",
              "    </tr>\n",
              "    <tr>\n",
              "      <th>YOPOUGON</th>\n",
              "      <td>154914</td>\n",
              "    </tr>\n",
              "    <tr>\n",
              "      <th>ABOBO</th>\n",
              "      <td>95781</td>\n",
              "    </tr>\n",
              "    <tr>\n",
              "      <th>TREICHVILLE</th>\n",
              "      <td>58932</td>\n",
              "    </tr>\n",
              "    <tr>\n",
              "      <th>KOUMASSI</th>\n",
              "      <td>55781</td>\n",
              "    </tr>\n",
              "    <tr>\n",
              "      <th>MARCORY</th>\n",
              "      <td>49085</td>\n",
              "    </tr>\n",
              "    <tr>\n",
              "      <th>ADJAME</th>\n",
              "      <td>45925</td>\n",
              "    </tr>\n",
              "    <tr>\n",
              "      <th>SAN-PEDRO</th>\n",
              "      <td>39606</td>\n",
              "    </tr>\n",
              "    <tr>\n",
              "      <th>YAMOUSSOUKRO</th>\n",
              "      <td>37590</td>\n",
              "    </tr>\n",
              "    <tr>\n",
              "      <th>BOUAKE</th>\n",
              "      <td>28302</td>\n",
              "    </tr>\n",
              "    <tr>\n",
              "      <th>PORT-BOUET</th>\n",
              "      <td>27907</td>\n",
              "    </tr>\n",
              "    <tr>\n",
              "      <th>DALOA</th>\n",
              "      <td>26044</td>\n",
              "    </tr>\n",
              "    <tr>\n",
              "      <th>DIVO</th>\n",
              "      <td>16701</td>\n",
              "    </tr>\n",
              "    <tr>\n",
              "      <th>ATTECOUBE</th>\n",
              "      <td>14266</td>\n",
              "    </tr>\n",
              "    <tr>\n",
              "      <th>SOUBRE</th>\n",
              "      <td>6561</td>\n",
              "    </tr>\n",
              "    <tr>\n",
              "      <th rowspan=\"15\" valign=\"top\">sms</th>\n",
              "      <th>YOPOUGON</th>\n",
              "      <td>47253</td>\n",
              "    </tr>\n",
              "    <tr>\n",
              "      <th>ABOBO</th>\n",
              "      <td>28429</td>\n",
              "    </tr>\n",
              "    <tr>\n",
              "      <th>COCODY</th>\n",
              "      <td>19825</td>\n",
              "    </tr>\n",
              "    <tr>\n",
              "      <th>KOUMASSI</th>\n",
              "      <td>15575</td>\n",
              "    </tr>\n",
              "    <tr>\n",
              "      <th>ADJAME</th>\n",
              "      <td>13530</td>\n",
              "    </tr>\n",
              "    <tr>\n",
              "      <th>MARCORY</th>\n",
              "      <td>10828</td>\n",
              "    </tr>\n",
              "    <tr>\n",
              "      <th>DALOA</th>\n",
              "      <td>8660</td>\n",
              "    </tr>\n",
              "    <tr>\n",
              "      <th>PORT-BOUET</th>\n",
              "      <td>7879</td>\n",
              "    </tr>\n",
              "    <tr>\n",
              "      <th>YAMOUSSOUKRO</th>\n",
              "      <td>7500</td>\n",
              "    </tr>\n",
              "    <tr>\n",
              "      <th>DIVO</th>\n",
              "      <td>6975</td>\n",
              "    </tr>\n",
              "    <tr>\n",
              "      <th>TREICHVILLE</th>\n",
              "      <td>6625</td>\n",
              "    </tr>\n",
              "    <tr>\n",
              "      <th>ATTECOUBE</th>\n",
              "      <td>4850</td>\n",
              "    </tr>\n",
              "    <tr>\n",
              "      <th>BOUAKE</th>\n",
              "      <td>4737</td>\n",
              "    </tr>\n",
              "    <tr>\n",
              "      <th>SAN-PEDRO</th>\n",
              "      <td>4531</td>\n",
              "    </tr>\n",
              "    <tr>\n",
              "      <th>SOUBRE</th>\n",
              "      <td>1175</td>\n",
              "    </tr>\n",
              "  </tbody>\n",
              "</table>\n",
              "</div>"
            ],
            "text/plain": [
              "                        bill\n",
              "product VILLES              \n",
              "Voice   COCODY        157920\n",
              "        YOPOUGON      154914\n",
              "        ABOBO          95781\n",
              "        TREICHVILLE    58932\n",
              "        KOUMASSI       55781\n",
              "        MARCORY        49085\n",
              "        ADJAME         45925\n",
              "        SAN-PEDRO      39606\n",
              "        YAMOUSSOUKRO   37590\n",
              "        BOUAKE         28302\n",
              "        PORT-BOUET     27907\n",
              "        DALOA          26044\n",
              "        DIVO           16701\n",
              "        ATTECOUBE      14266\n",
              "        SOUBRE          6561\n",
              "sms     YOPOUGON       47253\n",
              "        ABOBO          28429\n",
              "        COCODY         19825\n",
              "        KOUMASSI       15575\n",
              "        ADJAME         13530\n",
              "        MARCORY        10828\n",
              "        DALOA           8660\n",
              "        PORT-BOUET      7879\n",
              "        YAMOUSSOUKRO    7500\n",
              "        DIVO            6975\n",
              "        TREICHVILLE     6625\n",
              "        ATTECOUBE       4850\n",
              "        BOUAKE          4737\n",
              "        SAN-PEDRO       4531\n",
              "        SOUBRE          1175"
            ]
          },
          "metadata": {
            "tags": []
          },
          "execution_count": 62
        }
      ]
    },
    {
      "cell_type": "markdown",
      "metadata": {
        "id": "f6G6qB9RZ3oN",
        "colab_type": "text"
      },
      "source": [
        "#### Investigate periods of the day when users are most active"
      ]
    },
    {
      "cell_type": "code",
      "metadata": {
        "id": "z1BaQtBqbfu8",
        "colab_type": "code",
        "colab": {}
      },
      "source": [
        "# Import datetime \n",
        "import datetime as dt"
      ],
      "execution_count": 156,
      "outputs": []
    },
    {
      "cell_type": "code",
      "metadata": {
        "id": "FS7LMR6ZEprC",
        "colab_type": "code",
        "colab": {
          "base_uri": "https://localhost:8080/",
          "height": 66
        },
        "outputId": "587dda89-577b-445b-e53d-f4965481a95c"
      },
      "source": [
        "cdr_all.datetime.astype('datetime64[ns]').dt.hour.value_counts()"
      ],
      "execution_count": 69,
      "outputs": [
        {
          "output_type": "execute_result",
          "data": {
            "text/plain": [
              "0     12731\n",
              "23     2019\n",
              "Name: datetime, dtype: int64"
            ]
          },
          "metadata": {
            "tags": []
          },
          "execution_count": 69
        }
      ]
    },
    {
      "cell_type": "markdown",
      "metadata": {
        "id": "riJczYwQeLTh",
        "colab_type": "text"
      },
      "source": [
        "Interestingly, all call data seems to have been collected between 11 pm and 1:00 am. Is this a flaw in the data?"
      ]
    },
    {
      "cell_type": "markdown",
      "metadata": {
        "id": "APIrctULhF3x",
        "colab_type": "text"
      },
      "source": [
        "### Recommendations"
      ]
    },
    {
      "cell_type": "markdown",
      "metadata": {
        "id": "Y9OwnJd3hJdO",
        "colab_type": "text"
      },
      "source": [
        "After analysis, the following cities were identified to have the highest traffic based on available data and should therefore be the first cities to be considered in carrying out the upgrade plan:\n",
        "- YOPOUGON        \n",
        "- ABOBO           \n",
        "- COCODY          \n",
        "- ADJAME          \n",
        "- KOUMASSI        \n",
        "- MARCORY         \n",
        "- YAMOUSSOUKRO    \n",
        "- TREICHVILLE     \n",
        "- DALOA           \n",
        "- ATTECOUBE       \n",
        "- PORT-BOUET      \n",
        "- SAN-PEDRO       \n",
        "- BOUAKE          \n",
        "- DIVO            \n",
        "- SOUBRE          \n",
        "\n",
        "After comparison, the sms product was found to have a higher frequency of usage than the voice product. SMS occupying 61.4% while Voice occupies 38.5% of the total traffic. However, it is important to note that voice brings in 81.2% of the total profits while sms only brings in 18.7%.\n",
        "\n",
        "Among the high traffic cities, the following 8 cities bring in the highest profits, from both products:\n",
        "- YOPOUGON  \n",
        "- COCODY \n",
        "- ABOBO \n",
        "- KOUMASSI \n",
        "- TREICHVILLE\n",
        "- MARCORY \n",
        "- ADJAME \n",
        "- YAMOUSSOUKRO \n",
        "\n",
        "Upon categorizing profits per product, these are the top four cities in each category:\n",
        "\n",
        "For the voice product:\n",
        "1. COCODY\t\n",
        "2. YOPOUGON\t\n",
        "3. ABOBO\n",
        "4. TREICHVILLE\n",
        "\n",
        "For the sms product:\n",
        "1. YOPOUGON\t\n",
        "2. ABOBO\t\n",
        "3. COCODY\t\n",
        "4. KOUMASSI"
      ]
    },
    {
      "cell_type": "code",
      "metadata": {
        "id": "3rz8kXsncEVI",
        "colab_type": "code",
        "colab": {}
      },
      "source": [
        ""
      ],
      "execution_count": null,
      "outputs": []
    }
  ]
}